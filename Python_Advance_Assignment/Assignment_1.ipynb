{
 "cells": [
  {
   "cell_type": "markdown",
   "metadata": {},
   "source": [
    "# Assignment_1"
   ]
  },
  {
   "cell_type": "markdown",
   "metadata": {},
   "source": [
    "###### Q1. What is the purpose of Python's OOP?"
   ]
  },
  {
   "cell_type": "markdown",
   "metadata": {},
   "source": [
    " Full form of Object Oriented Programming\n",
    " In python everything is an object\n",
    " \n",
    " Python Oops by building on the following topic:\n",
    " \n",
    "* objects\n",
    "* Using the class keyword\n",
    "* creating methonds in a class\n",
    "* creating class attributs\n",
    "* Learning about Inheritance\n",
    "* Learning about special Methonds for classes\n",
    "\n",
    "Above written key points are main purpose of Oop's.. may be enough to understand the concept of Oop's"
   ]
  },
  {
   "cell_type": "markdown",
   "metadata": {},
   "source": [
    "##### Object\n",
    "Python every thing is an object.. we all know use of type() to check the type of object something like this:"
   ]
  },
  {
   "cell_type": "code",
   "execution_count": 1,
   "metadata": {},
   "outputs": [
    {
     "name": "stdout",
     "output_type": "stream",
     "text": [
      "<class 'int'>\n",
      "<class 'str'>\n",
      "<class 'list'>\n",
      "<class 'tuple'>\n",
      "<class 'set'>\n"
     ]
    }
   ],
   "source": [
    "print(type(1))\n",
    "print(type(\"1\"))\n",
    "print(type([1]))\n",
    "print(type((1,2)))\n",
    "print(type({1}))"
   ]
  },
  {
   "cell_type": "code",
   "execution_count": 2,
   "metadata": {},
   "outputs": [
    {
     "name": "stdout",
     "output_type": "stream",
     "text": [
      "<class 'module'>\n"
     ]
    }
   ],
   "source": [
    "import math\n",
    "print(type(math))"
   ]
  },
  {
   "cell_type": "markdown",
   "metadata": {},
   "source": [
    "##### Q2. Where does an inheritance search look for an attribute?\n",
    "\n",
    "The inheritance search happens in bottom up fashion. its starts form object.attr and search all the way up to the parent class to find the find the first occurrence of attribute by looking in object, then in all classes above it, from bottom to top and left to right."
   ]
  },
  {
   "cell_type": "markdown",
   "metadata": {},
   "source": [
    "##### Q4. What makes the first argument in a class’s method function special?\n",
    "\n",
    "First argument in a class method is keyword self represents the instance of a class and binds the attributes with the given arguments."
   ]
  },
  {
   "cell_type": "markdown",
   "metadata": {},
   "source": [
    "##### Q5. What is the purpose of the __init__ method? \n",
    "\n",
    "we have careted a car class, self is not a keyword it parameter that is passed our side\n",
    "\n",
    "__init__ function it been used pass a data a class it provider a data a class\n",
    "\n",
    "self is pointer to class itself \n",
    "\n",
    "__init__ inbulid fuction that able to initialze the data"
   ]
  },
  {
   "cell_type": "code",
   "execution_count": 9,
   "metadata": {},
   "outputs": [],
   "source": [
    "class Car:\n",
    "    def __init__(self, milage, year, make, model): \n",
    "        self.m = milage   # \"self.m\" its a variable of class \n",
    "        self.yr = year\n",
    "        self.make = make\n",
    "        self.model = model"
   ]
  },
  {
   "cell_type": "markdown",
   "metadata": {},
   "source": [
    "###### Q No 3,6,7 given the Answer combend\n",
    "\n",
    "###### Q3. How do you distinguish between a class object and an instance object?\n",
    "\n",
    "###### Q6. What is the process for creating a class instance?\n",
    "\n",
    "###### Q7. What is the process for creating a class?"
   ]
  },
  {
   "cell_type": "markdown",
   "metadata": {},
   "source": [
    " The user defined objects are created using the class keyword. the class is a blueprint/design that defines a nature of a future object. from classes we can construct instances. An instance is a specific object created form a particular class.\n",
    " \n",
    " Lets take an example, how we can use class\n",
    " \n"
   ]
  },
  {
   "cell_type": "code",
   "execution_count": 6,
   "metadata": {},
   "outputs": [
    {
     "name": "stdout",
     "output_type": "stream",
     "text": [
      "<__main__.Human object at 0x000001A0F2EE46A0>\n",
      "<class '__main__.Human'>\n",
      "<__main__.Human object at 0x000001A0F2EE46D8>\n"
     ]
    }
   ],
   "source": [
    "#  Creaing our own Class\n",
    "\n",
    "class Human:\n",
    "    \"\"\"Optional Documentation\"\"\"\n",
    "    pass\n",
    "# creating an Object\n",
    "x = Human()\n",
    "print(x)\n",
    "print(type(x))\n",
    "y = Human()\n",
    "print(y)"
   ]
  },
  {
   "cell_type": "markdown",
   "metadata": {},
   "source": [
    "Above convention we give classes a name that starts with a catpital letter.\n",
    "\n",
    "inside of the class we currently just have pass. but we can define class attributes and methods. An attribute is a characteristic of an object. A method is an operation we can perform with the object. \n",
    "\n",
    "For example we can create a class called Dog. An attribute of a dog my be its breed of its name, while a method of a dog may be defined by understanding of attributes through a. bark() method which returns a sound. Lets get a better understanding of attributes throgh an exaple."
   ]
  },
  {
   "cell_type": "code",
   "execution_count": 7,
   "metadata": {},
   "outputs": [],
   "source": [
    "# Attributes  syntax for creating an attribute is:\n",
    "# self.attribute = something"
   ]
  },
  {
   "cell_type": "code",
   "execution_count": 8,
   "metadata": {},
   "outputs": [],
   "source": [
    "class Car:\n",
    "    def __init__(self, milage, year, make, model):    # __init__ inbulid fuction that able to initialze the data\n",
    "        self.m = milage   # \"self.m\" its a variable of class \n",
    "        self.yr = year\n",
    "        self.make = make  #self.attribute = something\n",
    "        self.model = model\n",
    "    def age(self,current_year):  # self is local pointer we can say\n",
    "        return current_year - self.yr\n",
    "    \n",
    "    def milage(self):\n",
    "        print(\"Milage of car\",self.m)\n",
    "#         return self.m\n",
    "    def __str__(c):  # c is pointer like self we can also define self here\n",
    "        return \"This is you car class Object that you have created\""
   ]
  },
  {
   "cell_type": "markdown",
   "metadata": {},
   "source": [
    "Python oops implmentaitont easy to other languages what is meaning of class its a way of writing a code makeing a moduler code this is where oops concept comes into pectiure when every we see in industry level implementation. its looking hard but not actully if understand the concept\n",
    "\n",
    "meaning of class if am talking about a car which car ima talking about there is a car staning somewhere which brnd of car i am talking about i am just getting about car\n",
    "\n",
    "class its a classification of real world of objects entity car, animal etc..\n",
    "\n",
    "Class--> Car Object--> Objects are vaiable of car class. its a variable of a class by which we able to real time representation of data/ entity... Audi Q7 Maritu Tata Nano\n",
    "\n",
    "a = \"Kanha\" , a is varible/Object of string class.\n",
    "\n",
    "b = 6 , b is variable/Object of integer class."
   ]
  },
  {
   "cell_type": "markdown",
   "metadata": {},
   "source": [
    "##### Q8. How would you define the superclasses of a class?\n",
    "\n",
    "The class from which a class inherits is called the parent or superclass"
   ]
  },
  {
   "cell_type": "code",
   "execution_count": null,
   "metadata": {},
   "outputs": [],
   "source": []
  }
 ],
 "metadata": {
  "kernelspec": {
   "display_name": "Python 3",
   "language": "python",
   "name": "python3"
  },
  "language_info": {
   "codemirror_mode": {
    "name": "ipython",
    "version": 3
   },
   "file_extension": ".py",
   "mimetype": "text/x-python",
   "name": "python",
   "nbconvert_exporter": "python",
   "pygments_lexer": "ipython3",
   "version": "3.7.0"
  }
 },
 "nbformat": 4,
 "nbformat_minor": 2
}
