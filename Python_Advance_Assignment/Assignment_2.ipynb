{
 "cells": [
  {
   "cell_type": "markdown",
   "metadata": {},
   "source": [
    "#  Assignment_2\n"
   ]
  },
  {
   "cell_type": "markdown",
   "metadata": {},
   "source": [
    "Q1. What is the relationship between classes and modules? "
   ]
  },
  {
   "cell_type": "markdown",
   "metadata": {},
   "source": [
    " ##### Classes\n",
    "###### Its not a new concept in the field of programming..\n",
    " \n",
    "* When we are talking about class its not comes into python, class comes into every programing language.\n",
    "* Class is userdefine it can be say properties to produce objects.\n",
    "* Class has capablity to reduce/reuse make code a faster lets say we have to done a work which some factors are common and some are different those factors are common i would to tie and i can use any where we dont need to write again and again.\n",
    "*  every class has two importent things attribute and behaviour called operation.\n",
    "* Class kind of design/blueprint we can say for creating the respective objects. Obj simple instance\n",
    "\n",
    "* For example, above we created the object 'l' which was an instance of a list object. Let see how we can use class\n",
    " "
   ]
  },
  {
   "cell_type": "code",
   "execution_count": 6,
   "metadata": {},
   "outputs": [
    {
     "name": "stdout",
     "output_type": "stream",
     "text": [
      "<class 'module'>\n"
     ]
    }
   ],
   "source": [
    "import math\n",
    "print(type(math))"
   ]
  },
  {
   "cell_type": "code",
   "execution_count": 4,
   "metadata": {},
   "outputs": [
    {
     "name": "stdout",
     "output_type": "stream",
     "text": [
      "<__main__.Human object at 0x000002737E072EF0>\n",
      "<class '__main__.Human'>\n",
      "<__main__.Human object at 0x000002737E072E80>\n"
     ]
    }
   ],
   "source": [
    "# Creating our own Class\n",
    "\n",
    "class Human:\n",
    "    \"\"\"Optional Documentation\"\"\"\n",
    "    pass\n",
    "\n",
    "# Creating an object\n",
    "\n",
    "a = Human()\n",
    "print(a)\n",
    "print(type(a))\n",
    "b = Human()\n",
    "print(b)"
   ]
  },
  {
   "cell_type": "code",
   "execution_count": 1,
   "metadata": {},
   "outputs": [
    {
     "name": "stdout",
     "output_type": "stream",
     "text": [
      "<class 'int'>\n",
      "<class 'str'>\n",
      "<class 'float'>\n"
     ]
    }
   ],
   "source": [
    "# here we define x,y,z those are the object different classes.\n",
    "# \"type\" its a method \n",
    "x =1\n",
    "y = 'A'\n",
    "z = 1.2\n",
    "print(type(x)) # belong to int class\n",
    "print(type(y)) # belong to string class\n",
    "print(type(z)) # belong to float class"
   ]
  },
  {
   "cell_type": "markdown",
   "metadata": {},
   "source": [
    "So we know all these things are objects, so how can we create our own Object types? That is where the class keyword comes in."
   ]
  },
  {
   "cell_type": "markdown",
   "metadata": {},
   "source": [
    "##### Q2. How do you make instances and classes?\n",
    "\n",
    "\"a\" is instance of Human class\n",
    "a = Human(\"Kanha\",24)\n",
    "\n",
    "below code we have both instance and class..."
   ]
  },
  {
   "cell_type": "code",
   "execution_count": 5,
   "metadata": {},
   "outputs": [
    {
     "name": "stdout",
     "output_type": "stream",
     "text": [
      "Human Created\n",
      "Human Created\n",
      "Kanha\n",
      "Prakash\n",
      "Kanha is saying hello\n",
      "Prakash is saying hello\n"
     ]
    }
   ],
   "source": [
    "# Instatiating an object with paramenters\n",
    "class Human:\n",
    "    # Class Attributes are unique to each class\n",
    "    species = 'Mammal' \n",
    "    \n",
    "    #Special/Magic Method\n",
    "    # Constructor -> gets called on its own whenever an object is created\n",
    "    def __init__(self,name,age):  #Instance Attributes are unique to each object\n",
    "        print(\"Human Created\")\n",
    "        # Object attribute\n",
    "        self.name = name\n",
    "        self.age = age\n",
    "    \n",
    "    # General Method\n",
    "    def say_hello(self):\n",
    "        print(\"{} is saying hello\".format(self.name))\n",
    "\n",
    "# Creating an object\n",
    "a = Human(\"Kanha\",24)\n",
    "b = Human('Prakash',32)\n",
    "print(a.name)\n",
    "print(b.name)\n",
    "a.say_hello()\n",
    "b.say_hello()"
   ]
  },
  {
   "cell_type": "markdown",
   "metadata": {},
   "source": [
    "###### Q3. Where and how should be class attributes created?\n",
    "\n",
    "Above program we can see class attributes created for \n",
    "\n",
    "    Example here:\n",
    "\n",
    "        class Human:\n",
    "            # Class Attribute\n",
    "            species = 'Mammal'"
   ]
  },
  {
   "cell_type": "markdown",
   "metadata": {},
   "source": [
    "##### Q4. Where and how are instance attributes created?"
   ]
  },
  {
   "cell_type": "code",
   "execution_count": 1,
   "metadata": {},
   "outputs": [],
   "source": [
    "# Instatiating an object with paramenters\n",
    "class Human:\n",
    "\n",
    "    def __init__(self,name,age):  #Instance Attributes are unique to each object\n",
    "        print(\"Human Created\")\n",
    "        # Object attribute\n",
    "        self.name = name\n",
    "        self.age = age"
   ]
  },
  {
   "cell_type": "markdown",
   "metadata": {},
   "source": [
    "##### Q5. What does the term &quot;self&quot; in a Python class mean? \n",
    "\n",
    "\n",
    "With the help of keyword \"self\" can access the attributes and methods of the class its not hardcode we have to give name self we can give whatever name we want its always refer to current instance of the class but for accessing the class instance first parameter of any function in the class without it we cannt do... "
   ]
  },
  {
   "cell_type": "code",
   "execution_count": 5,
   "metadata": {},
   "outputs": [
    {
     "name": "stdout",
     "output_type": "stream",
     "text": [
      "Human Created\n",
      "Name is Kanha\n",
      "Age is 24\n"
     ]
    }
   ],
   "source": [
    "# Instatiating an object with paramenters\n",
    "class Human:\n",
    "\n",
    "    def __init__(self,name,age):  #Instance Attributes are unique to each object\n",
    "        print(\"Human Created\")\n",
    "        # Object attribute\n",
    "        self.name = name\n",
    "        self.age = age\n",
    "        \n",
    "    def disply(self):\n",
    "        print(\"Name is\", self.name)\n",
    "        print(\"Age is\", self.age)\n",
    "        \n",
    "obj = Human(\"Kanha\",\"24\")\n",
    "obj.disply()"
   ]
  },
  {
   "cell_type": "markdown",
   "metadata": {},
   "source": [
    "##### Q6. How does a Python class handle operator overloading?\n",
    "\n",
    "\n",
    "\n",
    "Operator overloading, we need to define a special method in a class definition or predifine operaiton for example for adding two number we used to + this operator and also marge two string can do because we operator overloaded form int and str class with different behave called as operator overloading.\n",
    "\n",
    "\n",
    "\n",
    "        Operator\tMagic Method\n",
    "        \n",
    "        +\t__add__(self, other)\n",
    "        –\t__sub__(self, other)\n",
    "        *\t__mul__(self, other)\n",
    "        /\t__truediv__(self, other)\n",
    "        //\t__floordiv__(self, other)\n",
    "        %\t__mod__(self, other)\n",
    "        **\t__pow__(self, other)\n",
    "        >>\t__rshift__(self, other)\n",
    "        <<\t__lshift__(self, other)\n",
    "        &\t__and__(self, other)\n",
    "        |\t__or__(self, other)\n",
    "        ^\t__xor__(self, other)"
   ]
  },
  {
   "cell_type": "markdown",
   "metadata": {},
   "source": [
    "##### Q7. When do you consider allowing operator overloading of your classes?\n",
    "\n",
    "Lets sposse we have two class objects and we have to add them + operator it will give an ERROR becaue python compiler not be able to understand how the addition will happen so we need to define an operation for this process that called  operator overloading after that we can perform any addition like arithmaetic, marge two list and marge two string or can say concatenation of str..."
   ]
  },
  {
   "cell_type": "markdown",
   "metadata": {},
   "source": [
    "##### Q8. What is the most popular form of operator overloading? \n",
    "\n",
    "A very popular example is the Addition (+) operator when we use + then magic method add is automatic apply which operation is defined using +."
   ]
  },
  {
   "cell_type": "markdown",
   "metadata": {},
   "source": [
    "###### Q9. What are the two most important concepts to grasp in order to comprehend Python OOP code? \n",
    "\n",
    "There are two useful concept in order to comprehend pythn Oops code Class and Objects..."
   ]
  },
  {
   "cell_type": "code",
   "execution_count": null,
   "metadata": {},
   "outputs": [],
   "source": []
  }
 ],
 "metadata": {
  "kernelspec": {
   "display_name": "Python 3",
   "language": "python",
   "name": "python3"
  },
  "language_info": {
   "codemirror_mode": {
    "name": "ipython",
    "version": 3
   },
   "file_extension": ".py",
   "mimetype": "text/x-python",
   "name": "python",
   "nbconvert_exporter": "python",
   "pygments_lexer": "ipython3",
   "version": "3.7.0"
  }
 },
 "nbformat": 4,
 "nbformat_minor": 2
}
