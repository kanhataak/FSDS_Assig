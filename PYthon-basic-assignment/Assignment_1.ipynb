{
 "cells": [
  {
   "cell_type": "markdown",
   "metadata": {},
   "source": [
    "    1. What are the differences between operators and values in the following?\n",
    "*    *\n",
    "* 'hello'\n",
    "* -87.8\n",
    "* -\n",
    "* /\n",
    "* +\n",
    "* 6\n"
   ]
  },
  {
   "cell_type": "code",
   "execution_count": 6,
   "metadata": {},
   "outputs": [
    {
     "name": "stdout",
     "output_type": "stream",
     "text": [
      "20\n"
     ]
    },
    {
     "data": {
      "text/plain": [
       "25"
      ]
     },
     "execution_count": 6,
     "metadata": {},
     "output_type": "execute_result"
    }
   ],
   "source": [
    "# * this is multiplication operator. we can do multiplication any number with the help of this operator.but we cant do \n",
    "# string multiplication. for example:\n",
    "a=5\n",
    "b=4\n",
    "print(a*b)\n",
    "# also we can do like this\n",
    "5*5"
   ]
  },
  {
   "cell_type": "code",
   "execution_count": 7,
   "metadata": {},
   "outputs": [
    {
     "data": {
      "text/plain": [
       "'hello'"
      ]
     },
     "execution_count": 7,
     "metadata": {},
     "output_type": "execute_result"
    }
   ],
   "source": [
    "#  'hello' this is string which is hold by a variable like this\n",
    "s='hello'\n",
    "s"
   ]
  },
  {
   "cell_type": "markdown",
   "metadata": {},
   "source": [
    "Arithmetic operators are used with numeric values to perform common mathematical tasks:"
   ]
  },
  {
   "cell_type": "code",
   "execution_count": 13,
   "metadata": {},
   "outputs": [
    {
     "name": "stdout",
     "output_type": "stream",
     "text": [
      "Subtraction : 4\n",
      "Division : 2.0\n",
      "Addition : 12\n",
      "6\n"
     ]
    }
   ],
   "source": [
    "# -87.8 this is float negative value\n",
    "# - Subtraction operator for example:\n",
    "# a and b two variable which is hold the value both  of them and we are performing some task:\n",
    "a = 8\n",
    "b = 4\n",
    "print('Subtraction :',a-b)\n",
    "\n",
    "# / Division\n",
    "print('Division :',a/b)\n",
    "\n",
    "# + Addition\n",
    "print('Addition :',a+b)\n",
    "\n",
    "x = 6 # 6 is a value which is hold by x variable.\n",
    "print(x)"
   ]
  },
  {
   "cell_type": "markdown",
   "metadata": {},
   "source": [
    "    2. What is the difference between string and variable?\n",
    "* spam\n",
    "* 'spam'\n"
   ]
  },
  {
   "cell_type": "code",
   "execution_count": 14,
   "metadata": {},
   "outputs": [
    {
     "name": "stdout",
     "output_type": "stream",
     "text": [
      "6\n",
      "spam\n"
     ]
    }
   ],
   "source": [
    "# spam is variable in which we can store any value and string, we can say variable just like cantener.\n",
    "spam = 6 # In this case spam is variable in which store 6 as a value.\n",
    "print(spam)\n",
    "# string it can be a name,place name, any meaningfull name for example: \n",
    "s = \"spam\"\n",
    "print(s)"
   ]
  },
  {
   "cell_type": "markdown",
   "metadata": {},
   "source": [
    "3. Describe three different data forms\n",
    "\n",
    "* Basic types (int, float, string etc)\n",
    "* Container types (List, tuple etc)\n",
    "* User defined (Class)"
   ]
  },
  {
   "cell_type": "markdown",
   "metadata": {},
   "source": [
    "4. What makes up an expression? What are the functions of all expressions?\n",
    "\n",
    "* An expression consists of a set of variables or values or operands and operators and performs some evaluation, validation or computation on them. It might include multiple variables or operands and multiple operation among them."
   ]
  },
  {
   "cell_type": "markdown",
   "metadata": {},
   "source": [
    "\n",
    "\n",
    "5. In this chapter, assignment statements such as spam = 10 were added. What's the difference between a declaration and an expression?\n",
    "#### Answer:\n",
    "    * spam is variable which declar for hold perticuler value that is 10.we have declar spam as variable.\n",
    "    * An expression is combination of value, variable, constant and operator that is called as expression. when we have operands and operator.\n",
    "    * For example: 2 + 2 = 4 we have 2 is operand and + is operator and giens the single output called is exprssin"
   ]
  },
  {
   "cell_type": "markdown",
   "metadata": {},
   "source": [
    " 6. After running the following code, what does the variable bacon contain?\n",
    "* bacon = 22\n",
    "* bacon + 1\n"
   ]
  },
  {
   "cell_type": "code",
   "execution_count": 15,
   "metadata": {},
   "outputs": [
    {
     "data": {
      "text/plain": [
       "23"
      ]
     },
     "execution_count": 15,
     "metadata": {},
     "output_type": "execute_result"
    }
   ],
   "source": [
    "# after funning this code variable bacon contain 22 after and before both because first bacon hold the 22 and after that we have 22.  \n",
    "bacon = 22\n",
    "bacon +1"
   ]
  },
  {
   "cell_type": "markdown",
   "metadata": {},
   "source": [
    " 7. What should the values of the following two terms be?\n",
    "\n",
    "* 'spam' + 'spamspam'--->'spamspamspam' it will add/concat the both the string.\n",
    "* 'spam' * 3 ---> it will multiply the three times spam string. \"spamspamspam\"\n"
   ]
  },
  {
   "cell_type": "code",
   "execution_count": null,
   "metadata": {},
   "outputs": [],
   "source": []
  }
 ],
 "metadata": {
  "kernelspec": {
   "display_name": "Python 3",
   "language": "python",
   "name": "python3"
  },
  "language_info": {
   "codemirror_mode": {
    "name": "ipython",
    "version": 3
   },
   "file_extension": ".py",
   "mimetype": "text/x-python",
   "name": "python",
   "nbconvert_exporter": "python",
   "pygments_lexer": "ipython3",
   "version": "3.7.0"
  }
 },
 "nbformat": 4,
 "nbformat_minor": 2
}
