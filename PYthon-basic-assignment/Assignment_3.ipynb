{
 "cells": [
  {
   "cell_type": "markdown",
   "metadata": {},
   "source": [
    "##### 1. Why are functions advantageous to have in your programs?"
   ]
  },
  {
   "cell_type": "markdown",
   "metadata": {},
   "source": [
    "### Built in function\n",
    "* print(dir(__builtins__))\n",
    "### User defined function\n",
    "def fun1\n",
    "\n",
    "Functions are basically some instrutions paskaged together that perofm a specific task sl lets cerate our first function and see why these are so benedfical while creating a function we always use in python 'def' keyword which i believe stands for definition... \n",
    "\n",
    "Reusability: reusabliliy means we can use that function many in program.\n",
    "\n",
    "Easy debugging: that means finding Error will be easy for the user if write the funtion if we write the program find out the error very deficult, function when runing automatically this debugging process will be esier for the user.\n",
    "\n",
    "Python make our life easyer with python functin make code faster and moduler coding.\n",
    "\n",
    "Function declaration : here we avoiding the declaration then other language.\n",
    "\n",
    "Function call\n",
    "\n",
    "* function definitaion: first we have to write the fucntion definitation then we start writing the actiul program. \n",
    "###### How the fun def can be done.. \n",
    "* every function should start with def keyword.\n",
    "* every function should a name not equal/match to any keyword that is available in python lib.\n",
    "* parameter/arguments inputs that given to the users every function may have para or not both of condition.\n",
    "\n"
   ]
  },
  {
   "cell_type": "code",
   "execution_count": 1,
   "metadata": {},
   "outputs": [],
   "source": [
    "def fun():\n",
    "    pass\n",
    "\n",
    "fun() # function call"
   ]
  },
  {
   "cell_type": "markdown",
   "metadata": {},
   "source": [
    "###### 2. When does the code in a function run: when it's specified or when it's called?\n",
    "\n",
    " The code in side written a function executes when the function is called, not when the function is defined.\n"
   ]
  },
  {
   "cell_type": "markdown",
   "metadata": {},
   "source": [
    "###### 3. What statement creates a function?\n",
    "\n",
    "def functionName(): creates a function.\n",
    "Using the def keyword we can create a function.\n"
   ]
  },
  {
   "cell_type": "markdown",
   "metadata": {},
   "source": [
    "###### 4. What is the difference between a function and a function call?\n"
   ]
  },
  {
   "cell_type": "markdown",
   "metadata": {},
   "source": [
    "fuctions is sub program part of the program function is smallest part of any program when we need then we call it So lets try to understand help of example\n",
    "\n",
    "what is fun call i have write a code in which i have done some specific task and as well i have to write some another code but there i need to same kind of task done that i have done my privios code then what i will do i will just write the function name my current code then it will automatic in my code.. "
   ]
  },
  {
   "cell_type": "code",
   "execution_count": 2,
   "metadata": {},
   "outputs": [
    {
     "name": "stdout",
     "output_type": "stream",
     "text": [
      "15\n",
      "12\n"
     ]
    }
   ],
   "source": [
    "def add(a,b=10): #function\n",
    "    print(a+b)\n",
    "\n",
    "add(5) # function call\n",
    "add(5,7)\n",
    "    "
   ]
  },
  {
   "cell_type": "markdown",
   "metadata": {},
   "source": [
    "###### 5. How many global scopes are there in a Python program? How many local scopes?\n",
    "\n",
    "There is one global scope, and a local scope is created whenever a function is called..."
   ]
  },
  {
   "cell_type": "markdown",
   "metadata": {},
   "source": [
    "###### 6. What happens to variables in a local scope when the function call returns?\n",
    "\n",
    "When a function returns, local variables are destroyed. we could not access the out side of the function."
   ]
  },
  {
   "cell_type": "markdown",
   "metadata": {},
   "source": [
    "###### 7. What is the concept of a return value? Is it possible to have a return value in an expression?\n"
   ]
  },
  {
   "cell_type": "markdown",
   "metadata": {},
   "source": [
    "A return is a value that a function returns to the calling script or function when it completes its task. A return value can be any one of the four variable types: handle, integer, object, or string. The type of value your function returns depends largely on the task it performs."
   ]
  },
  {
   "cell_type": "markdown",
   "metadata": {},
   "source": [
    "###### 8. If a function does not have a return statement, what is the return value of a call to that function?\n",
    "\n",
    "Python returns None if nothing is returned. Returns statement always used to end of the function and this statement cannt be used outside of function."
   ]
  },
  {
   "cell_type": "markdown",
   "metadata": {},
   "source": [
    "###### 9. How do you make a function variable refer to the global variable?\n",
    "\n",
    "using global keywaord in the body of a function we can define global variable for Example : global var1"
   ]
  },
  {
   "cell_type": "markdown",
   "metadata": {},
   "source": [
    "###### 10. What is the data type of None?\n"
   ]
  },
  {
   "cell_type": "markdown",
   "metadata": {},
   "source": [
    "None is used to  define null value its not equal to Zero None belong to class nonetype, we can not say false and empity.\n",
    "\n",
    "If we define two varialble as None address of both the same and also point same location. \n",
    "\n",
    "whenevery we define the variable None return None then we are the reseting the value of its actul state/position."
   ]
  },
  {
   "cell_type": "code",
   "execution_count": 3,
   "metadata": {},
   "outputs": [
    {
     "name": "stdout",
     "output_type": "stream",
     "text": [
      "<class 'NoneType'> <class 'NoneType'>\n",
      "v1 140713624127504\n",
      "v2 140713624127504\n"
     ]
    }
   ],
   "source": [
    "v1 = None\n",
    "v2 = None\n",
    "print(type(v1),type(v2))\n",
    "\n",
    "print(\"v1\",id(v1))\n",
    "print(\"v2\",id(v2))"
   ]
  },
  {
   "cell_type": "markdown",
   "metadata": {},
   "source": [
    "###### 11. What does the sentence import areallyourpetsnamederic do?\n",
    "\n",
    "\n",
    "import areallyourpetsnamederic: this is not a python module when we try to import then it will throughs ModuleNotFoundError "
   ]
  },
  {
   "cell_type": "markdown",
   "metadata": {},
   "source": [
    "###### 12. If you had a bacon() feature in a spam module, what would you call it after importing spam?\n"
   ]
  },
  {
   "cell_type": "code",
   "execution_count": 4,
   "metadata": {},
   "outputs": [],
   "source": [
    "# This function can be called with spam.bacon().we can call after importing the module like below...\n",
    "# import spam\n",
    "# spam.bacon()"
   ]
  },
  {
   "cell_type": "markdown",
   "metadata": {},
   "source": [
    "###### 13. What can you do to save a programme from crashing if it encounters an error?\n",
    "\n",
    "we have to write lines of code in try block(exception handling). This will not crash the programme. And in except block we can catch the exception our programme would be crash then it will automatic go inside except block."
   ]
  },
  {
   "cell_type": "markdown",
   "metadata": {},
   "source": [
    "###### 14. What is the purpose of the try clause? What is the purpose of the except clause?"
   ]
  },
  {
   "cell_type": "markdown",
   "metadata": {},
   "source": [
    "Try--> The code that could potentially cause an error goes in the try clause.\n",
    "except : The code that executes if an error happens goes in the except clause and programme will be stop, we can store all the exceptions statments logging."
   ]
  },
  {
   "cell_type": "code",
   "execution_count": null,
   "metadata": {},
   "outputs": [],
   "source": []
  }
 ],
 "metadata": {
  "kernelspec": {
   "display_name": "Python 3",
   "language": "python",
   "name": "python3"
  },
  "language_info": {
   "codemirror_mode": {
    "name": "ipython",
    "version": 3
   },
   "file_extension": ".py",
   "mimetype": "text/x-python",
   "name": "python",
   "nbconvert_exporter": "python",
   "pygments_lexer": "ipython3",
   "version": "3.7.0"
  }
 },
 "nbformat": 4,
 "nbformat_minor": 2
}
