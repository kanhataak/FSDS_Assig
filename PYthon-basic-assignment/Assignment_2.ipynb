{
 "cells": [
  {
   "cell_type": "markdown",
   "metadata": {},
   "source": [
    "##### 1.What are the two values of the Boolean data type? How do you write them?"
   ]
  },
  {
   "cell_type": "code",
   "execution_count": 36,
   "metadata": {},
   "outputs": [
    {
     "name": "stdout",
     "output_type": "stream",
     "text": [
      "False\n",
      "True\n",
      "<class 'bool'>\n"
     ]
    }
   ],
   "source": [
    "# Python has two type of boolean data type (True, False)\n",
    "\n",
    "# Declaring variables\n",
    "a = 10\n",
    "b = 20\n",
    "  \n",
    "# Comparing variables\n",
    "print(a == b)\n",
    "print(b>a)\n",
    "\n",
    "c=True\n",
    "\n",
    "print(type(c))"
   ]
  },
  {
   "cell_type": "markdown",
   "metadata": {},
   "source": [
    "##### 2. What are the three different types of Boolean operators?\n"
   ]
  },
  {
   "cell_type": "code",
   "execution_count": 37,
   "metadata": {},
   "outputs": [
    {
     "name": "stdout",
     "output_type": "stream",
     "text": [
      "False\n",
      "True\n",
      "False\n",
      "True\n"
     ]
    }
   ],
   "source": [
    "# AND, OR, NOT These are the boolean operators represintion would be bellow.\n",
    "a = True\n",
    "b = False\n",
    "\n",
    "print(a and b)\n",
    "\n",
    "print(a or b)\n",
    "\n",
    "print(not a)\n",
    "\n",
    "print(not b)"
   ]
  },
  {
   "cell_type": "markdown",
   "metadata": {},
   "source": [
    "###### 3. Make a list of each Boolean operator's truth tables (i.e. every possible combination of Boolean values for the operator and what it evaluate ).\n",
    "\n",
    "    * In case of AND \n",
    "* True True---> T\n",
    "* True False--> F\n",
    "* False True--> F\n",
    "* False False-> F\n",
    "\n",
    "      * In case of OR\n",
    "* True True---> T\n",
    "* True False--> T\n",
    "* False True--> T\n",
    "* False False-> F\n",
    "\n",
    "      * In case of NOT\n",
    "* False --> True\n",
    "* True  --> False"
   ]
  },
  {
   "cell_type": "markdown",
   "metadata": {},
   "source": [
    "##### 4. What are the values of the following expressions?\n",
    "    (5 > 4) and (3 == 5)\n",
    "    not (5 > 4)\n",
    "    (5 > 4) or (3 == 5)\n",
    "    not ((5 > 4) or (3 == 5))\n",
    "    (True and True) and (True == False)\n",
    "    (not False) or (not True)\n",
    "    \n",
    "* expressions also called logical operator AND OR NOT"
   ]
  },
  {
   "cell_type": "code",
   "execution_count": 10,
   "metadata": {},
   "outputs": [
    {
     "data": {
      "text/plain": [
       "False"
      ]
     },
     "execution_count": 10,
     "metadata": {},
     "output_type": "execute_result"
    }
   ],
   "source": [
    "# following expression we have and operator it means if our first statement will be true and 2nd is not true then condition result false\n",
    "# in the expression both side codition will ture then result true.\n",
    "(5 > 4) and (3 == 5)"
   ]
  },
  {
   "cell_type": "code",
   "execution_count": 22,
   "metadata": {},
   "outputs": [
    {
     "data": {
      "text/plain": [
       "False"
      ]
     },
     "execution_count": 22,
     "metadata": {},
     "output_type": "execute_result"
    }
   ],
   "source": [
    "# false if operands is true\n",
    "# if given expression is true then result False \n",
    "not(5 > 4)"
   ]
  },
  {
   "cell_type": "code",
   "execution_count": 26,
   "metadata": {},
   "outputs": [
    {
     "data": {
      "text/plain": [
       "True"
      ]
     },
     "execution_count": 26,
     "metadata": {},
     "output_type": "execute_result"
    }
   ],
   "source": [
    "# OR says if one of the two condition will be correct then result True. both condition are not correct then its result false\n",
    "(5 > 4) or (3 == 5)"
   ]
  },
  {
   "cell_type": "code",
   "execution_count": 13,
   "metadata": {},
   "outputs": [
    {
     "data": {
      "text/plain": [
       "False"
      ]
     },
     "execution_count": 13,
     "metadata": {},
     "output_type": "execute_result"
    }
   ],
   "source": [
    "# \n",
    "not ((5 > 4) or (3 == 5))"
   ]
  },
  {
   "cell_type": "code",
   "execution_count": 14,
   "metadata": {},
   "outputs": [
    {
     "data": {
      "text/plain": [
       "False"
      ]
     },
     "execution_count": 14,
     "metadata": {},
     "output_type": "execute_result"
    }
   ],
   "source": [
    "# following expression has fist statemet is True but after And operater condition is False thay are not equal to each other \n",
    "# thats way the condition would false in this case.\n",
    "(True and True) and (True == False)"
   ]
  },
  {
   "cell_type": "code",
   "execution_count": 15,
   "metadata": {},
   "outputs": [
    {
     "data": {
      "text/plain": [
       "True"
      ]
     },
     "execution_count": 15,
     "metadata": {},
     "output_type": "execute_result"
    }
   ],
   "source": [
    "# above we already understood what is the actully meaning of NOT, This is gives the result opposite.\n",
    "# this is the reason that!\n",
    "(not False) or (not True)"
   ]
  },
  {
   "cell_type": "markdown",
   "metadata": {},
   "source": [
    "###### 5. What are the six comparison operators?\n",
    "* In Python has six type of comparison operators for looking the comparison between two operand.\n",
    "    * (==) if the value of two operends are equal then it will give the output True. a=10,b=10  (a==b) True\n",
    "    * (>)  if the value of left side operand is greater then value of right operend then it will give the output True otherwise False.\n",
    "    * (<) if the value of right side operand is greter then the value of left operand then condition will true otherwise False.\n",
    "    * (>=)  if the value of left side operand is greater or equal to the value of right operand then condition True.(10>=5)(10>=10)\n",
    "    * (<=)  if the value of left sid operand is less or equal to the value of right operand then condition True.(10<=15) \n",
    "    * (!=) if the value of both the side operands are not equal then condition True, operand value are same then condition False.\n"
   ]
  },
  {
   "cell_type": "code",
   "execution_count": 18,
   "metadata": {},
   "outputs": [
    {
     "name": "stdout",
     "output_type": "stream",
     "text": [
      "a is not equal to b\n",
      "a is greater then b\n",
      "a is not less then to b\n",
      "a is greater then or equal b\n",
      "a is not less then or equal to b\n"
     ]
    }
   ],
   "source": [
    "a = 20\n",
    "b = 10\n",
    "\n",
    "if a == b:\n",
    "    print(\"a is equal to b\")\n",
    "else:\n",
    "    print(\"a is not equal to b\")\n",
    "    \n",
    "if ( a > b ):\n",
    "    print(\"a is greater then b\")\n",
    "else:\n",
    "    print(\"a is not greater then b\")\n",
    "\n",
    "if ( a < b ):\n",
    "    print(\"a is less then  b\")\n",
    "else:\n",
    "    print(\"a is not less then to b\")\n",
    "\n",
    "if ( a >= b ):\n",
    "    print(\"a is greater then or equal b\")\n",
    "else:\n",
    "    print(\"a is not less then to b\")\n",
    "\n",
    "if ( a <= b ):\n",
    "    print(\"a is less then or equal to b\")\n",
    "else:\n",
    "    print(\"a is not less then or equal to b\")"
   ]
  },
  {
   "cell_type": "markdown",
   "metadata": {},
   "source": [
    "###### 6. How do you tell the difference between the equal to and assignment operators?Describe a condition and when you would use one.\n"
   ]
  },
  {
   "cell_type": "markdown",
   "metadata": {},
   "source": [
    "#### equal to\n",
    "(==)If the values of two operands are equal, then the condition becomes true and give the output true otherwise False\n",
    "here example a=10, b=5 (a == b) is not true. in this statement we can see condition will not True because a and b is not having equal value.\n",
    "#### Assignment Operator\n",
    "when we have define any kind of variable, becaue of we have to store some value, value can be any thing like it can be number, string, floting point value, list items etc. when we try to store value then we use the assignment operator. for example\n",
    "   * name = 'Kanha'\n",
    "   * spam = 0\n",
    "Here name and spam just a kind of container called variable..."
   ]
  },
  {
   "cell_type": "markdown",
   "metadata": {},
   "source": [
    "###### 7. Identify the three blocks in this code:\n",
    "    spam = 0\n",
    "    if spam == 10:\n",
    "    print('eggs')\n",
    "    if spam > 5:\n",
    "    print('bacon')\n",
    "    else:\n",
    "    print('ham')\n",
    "    print('spam')\n",
    "    print('spam')"
   ]
  },
  {
   "cell_type": "markdown",
   "metadata": {},
   "source": [
    "Below code only excute the else part becuse of in spam variable has define the value 0 that is never can be equeal 10 and in second if block define spam is greater than five that is also false because spam has Zero , This both if block says if condition is True then go inside condition and print the value that we have define but our case not is that so finally excute else part."
   ]
  },
  {
   "cell_type": "code",
   "execution_count": 77,
   "metadata": {},
   "outputs": [
    {
     "name": "stdout",
     "output_type": "stream",
     "text": [
      "ham\n",
      "spam\n",
      "spam\n"
     ]
    }
   ],
   "source": [
    "spam = 0\n",
    "if spam == 10:\n",
    "    print('eggs')\n",
    "if spam > 5:\n",
    "    print('bacon')\n",
    "else:\n",
    "    print('ham')\n",
    "    print('spam')\n",
    "    print('spam')"
   ]
  },
  {
   "cell_type": "markdown",
   "metadata": {},
   "source": [
    "##### 8. Write code that prints Hello if 1 is stored in spam, prints Howdy if 2 is stored in spam, and prints Greetings! if anything else is stored in spam. "
   ]
  },
  {
   "cell_type": "code",
   "execution_count": 63,
   "metadata": {},
   "outputs": [
    {
     "name": "stdout",
     "output_type": "stream",
     "text": [
      "Greetings!\n",
      "Hello\n",
      "Greetings!\n",
      "Howdy\n",
      "Greetings!\n",
      "Greetings!\n",
      "Greetings!\n",
      "Greetings!\n",
      "Greetings!\n"
     ]
    }
   ],
   "source": [
    "spam =[0,1,2,3,4,5,6,7]\n",
    "for i in spam:\n",
    "    if i==1:\n",
    "        print(\"Hello\")\n",
    "    if i==2:\n",
    "        print(\"Howdy\")   \n",
    "    else:\n",
    "        print('Greetings!')"
   ]
  },
  {
   "cell_type": "code",
   "execution_count": 64,
   "metadata": {},
   "outputs": [
    {
     "data": {
      "text/plain": [
       "['Greetings!',\n",
       " 'Hello',\n",
       " 'Howdy',\n",
       " 'Greetings!',\n",
       " 'Greetings!',\n",
       " 'Greetings!',\n",
       " 'Greetings!',\n",
       " 'Greetings!']"
      ]
     },
     "execution_count": 64,
     "metadata": {},
     "output_type": "execute_result"
    }
   ],
   "source": [
    "['Hello' if i==1 else 'Howdy' if i==2 else 'Greetings!' for i in spam]"
   ]
  },
  {
   "cell_type": "code",
   "execution_count": 65,
   "metadata": {},
   "outputs": [
    {
     "name": "stdout",
     "output_type": "stream",
     "text": [
      "['Greetings!', 'Hello', 'Howdy', 'Greetings!', 'Greetings!', 'Greetings!', 'Greetings!', 'Greetings!']\n"
     ]
    }
   ],
   "source": [
    "lst = [0,1,2,3,4,5,6,7]\n",
    "spam=[]\n",
    "for i in lst:\n",
    "    if i == 1:\n",
    "        spam.append('Hello')\n",
    "    elif i==2:\n",
    "        spam.append('Howdy')\n",
    "    else:\n",
    "        spam.append('Greetings!')\n",
    "print(spam)"
   ]
  },
  {
   "cell_type": "markdown",
   "metadata": {},
   "source": [
    "###### 9.If your programme is stuck in an endless loop, what keys you’ll press?"
   ]
  },
  {
   "cell_type": "markdown",
   "metadata": {},
   "source": [
    "* Ctrl+C\n",
    "* When our program excuting within loop and never leveing it. program is going on infinite state so that time we need to stop excution press Ctrl + C "
   ]
  },
  {
   "cell_type": "markdown",
   "metadata": {},
   "source": [
    "##### 10. How can you tell the difference between break and continue? "
   ]
  },
  {
   "cell_type": "markdown",
   "metadata": {},
   "source": [
    "Break statement is help us to exit the loop while condition loop. it will stop iterting where our given condition will be satisfied. In writen for loop passing a string we want to broken our loop where alphaet would be match and folloing loop was broken where 'E' found."
   ]
  },
  {
   "cell_type": "code",
   "execution_count": 29,
   "metadata": {},
   "outputs": [
    {
     "name": "stdout",
     "output_type": "stream",
     "text": [
      "B\n",
      "R\n",
      "End\n"
     ]
    }
   ],
   "source": [
    "# Inside for loop perform break statement\n",
    "for i in 'BREAK':\n",
    "    if i=='E':\n",
    "        break\n",
    "    print(i)\n",
    "print(\"End\")"
   ]
  },
  {
   "cell_type": "code",
   "execution_count": 28,
   "metadata": {},
   "outputs": [
    {
     "name": "stdout",
     "output_type": "stream",
     "text": [
      "C\n",
      "O\n",
      "N\n",
      "T\n",
      "N\n",
      "U\n",
      "E\n",
      "End\n"
     ]
    }
   ],
   "source": [
    "# Inside for loop perform continue statement\n",
    "for i in 'CONTINUE':\n",
    "    if i=='I':\n",
    "        continue\n",
    "    print(i)\n",
    "print('End')\n",
    "\n",
    "# output has not present I "
   ]
  },
  {
   "cell_type": "markdown",
   "metadata": {},
   "source": [
    "##### 11. In a for loop, what is the difference between range(10), range(0, 10), and range(0, 10, 1)?"
   ]
  },
  {
   "cell_type": "code",
   "execution_count": 8,
   "metadata": {},
   "outputs": [
    {
     "name": "stdout",
     "output_type": "stream",
     "text": [
      "0123456789"
     ]
    }
   ],
   "source": [
    "for i in range(10):\n",
    "    print(i,end='')"
   ]
  },
  {
   "cell_type": "code",
   "execution_count": 16,
   "metadata": {},
   "outputs": [
    {
     "name": "stdout",
     "output_type": "stream",
     "text": [
      "0123456789"
     ]
    }
   ],
   "source": [
    "for i in range(0,10):\n",
    "    print(i,end='')"
   ]
  },
  {
   "cell_type": "code",
   "execution_count": 19,
   "metadata": {},
   "outputs": [
    {
     "name": "stdout",
     "output_type": "stream",
     "text": [
      "02468"
     ]
    }
   ],
   "source": [
    "for i in range(0,10,1):\n",
    "    print(i,end='')"
   ]
  },
  {
   "cell_type": "markdown",
   "metadata": {},
   "source": [
    "* All the above for loop will be give the same output but first range(10) it always give the 0 to 9 but in \n",
    "* second case will provide us same output but if we replace 0 and assing another value then it will start form there but in this case first value should be lower then second value, otherwise it will not be able to give any output.\n",
    "* thred this also same but if there is thred value will be one if asing another value then it will take same gape among all the value that is called step size. "
   ]
  },
  {
   "cell_type": "markdown",
   "metadata": {},
   "source": [
    "##### 12. Write a short program that prints the numbers 1 to 10 using a for loop. Then write an equivalent program that prints the numbers 1 to 10 using a while loop."
   ]
  },
  {
   "cell_type": "code",
   "execution_count": 74,
   "metadata": {},
   "outputs": [
    {
     "name": "stdout",
     "output_type": "stream",
     "text": [
      "1\n",
      "2\n",
      "3\n",
      "4\n",
      "5\n",
      "6\n",
      "7\n",
      "8\n",
      "9\n",
      "10\n"
     ]
    }
   ],
   "source": [
    "# Using for Loop\n",
    "for i in range(1,11):\n",
    "    print(i)"
   ]
  },
  {
   "cell_type": "code",
   "execution_count": 76,
   "metadata": {},
   "outputs": [
    {
     "data": {
      "text/plain": [
       "[1, 2, 3, 4, 5, 6, 7, 8, 9, 10]"
      ]
     },
     "execution_count": 76,
     "metadata": {},
     "output_type": "execute_result"
    }
   ],
   "source": [
    "[i for i in range(1,11)]"
   ]
  },
  {
   "cell_type": "code",
   "execution_count": 73,
   "metadata": {
    "scrolled": true
   },
   "outputs": [
    {
     "name": "stdout",
     "output_type": "stream",
     "text": [
      "1\n",
      "2\n",
      "3\n",
      "4\n",
      "5\n",
      "6\n",
      "7\n",
      "8\n",
      "9\n",
      "10\n"
     ]
    }
   ],
   "source": [
    "# Using for Loop\n",
    "for i in range(1,10+1):\n",
    "    print(i)"
   ]
  },
  {
   "cell_type": "code",
   "execution_count": 75,
   "metadata": {},
   "outputs": [
    {
     "name": "stdout",
     "output_type": "stream",
     "text": [
      "1\n",
      "2\n",
      "3\n",
      "4\n",
      "5\n",
      "6\n",
      "7\n",
      "8\n",
      "9\n",
      "10\n"
     ]
    }
   ],
   "source": [
    "# Using while Loop\n",
    "i=1\n",
    "while i <=10:\n",
    "    print(i)\n",
    "    i +=1"
   ]
  },
  {
   "cell_type": "code",
   "execution_count": null,
   "metadata": {},
   "outputs": [],
   "source": []
  }
 ],
 "metadata": {
  "kernelspec": {
   "display_name": "Python 3",
   "language": "python",
   "name": "python3"
  },
  "language_info": {
   "codemirror_mode": {
    "name": "ipython",
    "version": 3
   },
   "file_extension": ".py",
   "mimetype": "text/x-python",
   "name": "python",
   "nbconvert_exporter": "python",
   "pygments_lexer": "ipython3",
   "version": "3.7.4"
  }
 },
 "nbformat": 4,
 "nbformat_minor": 2
}
