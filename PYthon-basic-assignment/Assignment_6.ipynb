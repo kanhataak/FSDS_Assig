{
 "cells": [
  {
   "cell_type": "markdown",
   "metadata": {},
   "source": [
    "# Assignment_6\n",
    "\n",
    "\n",
    "\n",
    "\n",
    "\n"
   ]
  },
  {
   "cell_type": "markdown",
   "metadata": {},
   "source": [
    "###### 1. What are escape characters, and how do you use them?\n",
    "escape characters  many times we use when we write any code/writting contant like tab space jump into new line heandle the cotes string escape characters alwys comes with backslash notation.\n",
    "\n",
    "\n",
    "    \\'\tSingle Quote\t\n",
    "    \\\\\tBackslash\t\n",
    "    \\n\tNew Line\t\n",
    "    \\r\tCarriage Return\t\n",
    "    \\t\tTab\t\n",
    "    \\b\tBackspace\t\n",
    "    \\f\tForm Feed\t\n",
    "    \\ooo\tOctal value\t\n",
    "    \\xhh\tHex value"
   ]
  },
  {
   "cell_type": "code",
   "execution_count": 1,
   "metadata": {},
   "outputs": [
    {
     "name": "stdout",
     "output_type": "stream",
     "text": [
      "iNeuron\t is the best platform\n",
      "its a AI based company\n"
     ]
    }
   ],
   "source": [
    "# demonstrate of escape character in python\n",
    "txt = \"iNeuron\\t is the best platform\\nits a AI based company\"\n",
    "print(txt)"
   ]
  },
  {
   "cell_type": "code",
   "execution_count": 2,
   "metadata": {},
   "outputs": [
    {
     "name": "stdout",
     "output_type": "stream",
     "text": [
      "Hey, what's up?\n"
     ]
    }
   ],
   "source": [
    "s = 'Hey, what\\'s up?'\n",
    "print(s)"
   ]
  },
  {
   "cell_type": "markdown",
   "metadata": {},
   "source": [
    "###### 2. What do the escape characters n and t stand for?\n",
    "    \\n used to jump into newline\n",
    "    \\t used to tab space"
   ]
  },
  {
   "cell_type": "markdown",
   "metadata": {},
   "source": [
    "###### 3. What is the way to include backslash characters in a string?"
   ]
  },
  {
   "cell_type": "code",
   "execution_count": 3,
   "metadata": {},
   "outputs": [
    {
     "name": "stdout",
     "output_type": "stream",
     "text": [
      "way to include \\backslash\\ characters in a string\n"
     ]
    }
   ],
   "source": [
    "string =\"way to include \\\\backslash\\\\ characters in a string\"\n",
    "print(string)"
   ]
  },
  {
   "cell_type": "markdown",
   "metadata": {},
   "source": [
    "###### 4. The string \"Howl's Moving Castle\" is a correct value. Why isn't the single quote character in the word Howl's not escaped a problem? \n",
    "\n",
    "its not wrong with How\\'s string its happening because sentence is written inside double quotes this is reason not a escaped problem. "
   ]
  },
  {
   "cell_type": "code",
   "execution_count": 4,
   "metadata": {},
   "outputs": [
    {
     "name": "stdout",
     "output_type": "stream",
     "text": [
      "How's Moving Castle\n"
     ]
    }
   ],
   "source": [
    "s = 'How\\'s Moving Castle' # way of writing of these type of sentences\n",
    "print(s)"
   ]
  },
  {
   "cell_type": "markdown",
   "metadata": {},
   "source": [
    "###### 5. How do you write a string of newlines if you don't want to use the n character? \n",
    "\n",
    "if we don't wnat to use \\n to go into newline then we have anoter method that is called paragraph quotes(three times double quotes)format for example \"\"\"string\"\"\""
   ]
  },
  {
   "cell_type": "code",
   "execution_count": 5,
   "metadata": {},
   "outputs": [
    {
     "name": "stdout",
     "output_type": "stream",
     "text": [
      "iNeuron\n",
      "is the best provider\n",
      "solution in the field of AI\n"
     ]
    }
   ],
   "source": [
    "x = \"\"\"iNeuron\n",
    "is the best provider\n",
    "solution in the field of AI\"\"\"\n",
    "print(x)"
   ]
  },
  {
   "cell_type": "markdown",
   "metadata": {},
   "source": [
    "###### 6. What are the values of the given expressions?\n",
    "\n",
    "        'Hello, world!'[1]\n",
    "        'Hello, world!'[0:5]\n",
    "        'Hello, world!'[:5]\n",
    "        'Hello, world!'[3:]"
   ]
  },
  {
   "cell_type": "code",
   "execution_count": 6,
   "metadata": {},
   "outputs": [
    {
     "name": "stdout",
     "output_type": "stream",
     "text": [
      "e\n",
      "Hello\n",
      "Hello\n",
      "lo, world!\n"
     ]
    }
   ],
   "source": [
    "# string indexing always starting form 0 to n and after : we used to define destination(end) point and befor starding\n",
    "print('Hello, world!'[1])\n",
    "print('Hello, world!'[0:5])\n",
    "print('Hello, world!'[:5])\n",
    "print('Hello, world!'[3:])"
   ]
  },
  {
   "cell_type": "markdown",
   "metadata": {},
   "source": [
    "###### 7. What are the values of the following expressions?\n",
    "\n",
    "        'Hello'.upper()\n",
    "        'Hello'.upper().isupper()\n",
    "        'Hello'.upper().lower() "
   ]
  },
  {
   "cell_type": "code",
   "execution_count": 7,
   "metadata": {},
   "outputs": [
    {
     "name": "stdout",
     "output_type": "stream",
     "text": [
      "HELLO\n"
     ]
    }
   ],
   "source": [
    "# these are the python inbuilt string function\n",
    "print('Hello'.upper())"
   ]
  },
  {
   "cell_type": "code",
   "execution_count": 8,
   "metadata": {},
   "outputs": [
    {
     "data": {
      "text/plain": [
       "True"
      ]
     },
     "execution_count": 8,
     "metadata": {},
     "output_type": "execute_result"
    }
   ],
   "source": [
    "'HELLO'.upper().isupper() # its condition base approach to cheack upper case latter"
   ]
  },
  {
   "cell_type": "code",
   "execution_count": 9,
   "metadata": {},
   "outputs": [
    {
     "data": {
      "text/plain": [
       "'hello'"
      ]
     },
     "execution_count": 9,
     "metadata": {},
     "output_type": "execute_result"
    }
   ],
   "source": [
    "'Hello'.upper().lower()"
   ]
  },
  {
   "cell_type": "markdown",
   "metadata": {},
   "source": [
    "###### 8. What are the values of the following expressions?\n",
    "\n",
    "        'Remember, remember, the fifth of July.'.split()\n",
    "        '-'.join('There can only one.'.split()) "
   ]
  },
  {
   "cell_type": "code",
   "execution_count": 10,
   "metadata": {},
   "outputs": [
    {
     "name": "stdout",
     "output_type": "stream",
     "text": [
      "['Remember,', 'remember,', 'the', 'fifth', 'of', 'July.']\n",
      "There-can-only-one.\n"
     ]
    }
   ],
   "source": [
    "# what actully does split funciton anywhere in string found a space it will automatic split form there into many string a sentence.\n",
    "print('Remember, remember, the fifth of July.'.split())\n",
    "\n",
    "# if we define split with join function then we need to define which format we wnat to split..\n",
    "print('-'.join('There can only one.'.split())) "
   ]
  },
  {
   "cell_type": "markdown",
   "metadata": {},
   "source": [
    "###### 9. What are the methods for right-justifying, left-justifying, and centering a string?"
   ]
  },
  {
   "cell_type": "code",
   "execution_count": 11,
   "metadata": {},
   "outputs": [
    {
     "name": "stdout",
     "output_type": "stream",
     "text": [
      "Hi                  \n",
      "                 Hey\n",
      "       Hello        \n"
     ]
    }
   ],
   "source": [
    "# lets sppose we have three string we want to give the space both of side, right side, left side so python provide this functionlty for us\n",
    "s1 =\"Hi\"\n",
    "s2=\"Hey\"\n",
    "s3 = \"Hello\"\n",
    "print(s1.ljust(20))\n",
    "print(s2.rjust(20))\n",
    "print(s3.center(20))"
   ]
  },
  {
   "cell_type": "markdown",
   "metadata": {},
   "source": [
    "###### 10. What is the best way to remove whitespace characters from the start or end?  "
   ]
  },
  {
   "cell_type": "code",
   "execution_count": 12,
   "metadata": {},
   "outputs": [
    {
     "name": "stdout",
     "output_type": "stream",
     "text": [
      "Befor\n",
      "    The best way to remove whitespace characters start or end.    \n",
      "Using lstrip() and rstrip() functions:\n",
      "After\n",
      " The best way to remove whitespace characters start or end.\n"
     ]
    }
   ],
   "source": [
    "# using the python inbuilt fontion we can solve this problem\n",
    "sent = \"   The best way to remove whitespace characters start or end.    \"\n",
    "print(\"Befor\\n\",sent)\n",
    "print(\"Using lstrip() and rstrip() functions:\\nAfter\\n\",(sent.lstrip()).rstrip())"
   ]
  },
  {
   "cell_type": "code",
   "execution_count": null,
   "metadata": {},
   "outputs": [],
   "source": []
  }
 ],
 "metadata": {
  "kernelspec": {
   "display_name": "Python 3",
   "language": "python",
   "name": "python3"
  },
  "language_info": {
   "codemirror_mode": {
    "name": "ipython",
    "version": 3
   },
   "file_extension": ".py",
   "mimetype": "text/x-python",
   "name": "python",
   "nbconvert_exporter": "python",
   "pygments_lexer": "ipython3",
   "version": "3.7.0"
  }
 },
 "nbformat": 4,
 "nbformat_minor": 4
}
