{
 "cells": [
  {
   "cell_type": "markdown",
   "metadata": {},
   "source": [
    "# Assignment_5"
   ]
  },
  {
   "cell_type": "code",
   "execution_count": 1,
   "metadata": {},
   "outputs": [
    {
     "data": {
      "text/plain": [
       "dict"
      ]
     },
     "execution_count": 1,
     "metadata": {},
     "output_type": "execute_result"
    }
   ],
   "source": [
    "# 1. What does an empty dictionary's code look like?\n",
    "\n",
    "d = {}\n",
    "type(d)"
   ]
  },
  {
   "cell_type": "code",
   "execution_count": null,
   "metadata": {},
   "outputs": [],
   "source": []
  },
  {
   "cell_type": "code",
   "execution_count": 1,
   "metadata": {},
   "outputs": [],
   "source": [
    "# 2. What is the value of a dictionary value with the key 'foo' and the value 42?\n",
    "\n",
    "dct = {\"foo\":42}"
   ]
  },
  {
   "cell_type": "code",
   "execution_count": 4,
   "metadata": {},
   "outputs": [
    {
     "data": {
      "text/plain": [
       "{'foo': 42}"
      ]
     },
     "execution_count": 4,
     "metadata": {},
     "output_type": "execute_result"
    }
   ],
   "source": [
    "dct"
   ]
  },
  {
   "cell_type": "markdown",
   "metadata": {},
   "source": [
    "###### 3. What is the most significant distinction between a dictionary and a list?\n",
    "\n",
    "* Dictionary cotains and combination of Key value pairs of elements which are Unordered, mutable and terable.\n",
    "* List contains elements which are ordered,mutable and iterable, list contaions any type of element."
   ]
  },
  {
   "cell_type": "markdown",
   "metadata": {},
   "source": [
    "###### Q 4. What happens if you try to access spam['foo'] if spam is {'bar': 100}?"
   ]
  },
  {
   "cell_type": "code",
   "execution_count": 15,
   "metadata": {},
   "outputs": [],
   "source": [
    "# given dist has bar as key and 100 is value so i will acess bar with the spam[\"bar\"] then it will return correct output as we can see.\n",
    "#  but in the case of spam[\"foo\"] dones existed in side given dict then it will give me ERRoR... if key isnot existed in dict\n",
    "# we never acess any value form dict...\n",
    "\n",
    "spam = {\"bar\":100}"
   ]
  },
  {
   "cell_type": "code",
   "execution_count": 11,
   "metadata": {},
   "outputs": [
    {
     "data": {
      "text/plain": [
       "100"
      ]
     },
     "execution_count": 11,
     "metadata": {},
     "output_type": "execute_result"
    }
   ],
   "source": [
    "spam['bar']"
   ]
  },
  {
   "cell_type": "code",
   "execution_count": 10,
   "metadata": {},
   "outputs": [
    {
     "ename": "KeyError",
     "evalue": "'foo'",
     "output_type": "error",
     "traceback": [
      "\u001b[1;31m---------------------------------------------------------------------------\u001b[0m",
      "\u001b[1;31mKeyError\u001b[0m                                  Traceback (most recent call last)",
      "\u001b[1;32m<ipython-input-10-eb1d0efbede1>\u001b[0m in \u001b[0;36m<module>\u001b[1;34m\u001b[0m\n\u001b[1;32m----> 1\u001b[1;33m \u001b[0mspam\u001b[0m\u001b[1;33m[\u001b[0m\u001b[1;34m\"foo\"\u001b[0m\u001b[1;33m]\u001b[0m\u001b[1;33m\u001b[0m\u001b[1;33m\u001b[0m\u001b[0m\n\u001b[0m",
      "\u001b[1;31mKeyError\u001b[0m: 'foo'"
     ]
    }
   ],
   "source": [
    "spam[\"foo\"]"
   ]
  },
  {
   "cell_type": "markdown",
   "metadata": {},
   "source": [
    "###### Q 5. If a dictionary is stored in spam, what is the difference between the expressions 'cat' in spam and 'cat' in spam.keys()?\n",
    "\n",
    "* we all know dictionary is format of key and value pare (Mutable objects) key must be unique, value can be any thing or same data.\n",
    "* key also be a integer, string and spaciel char it could also possible but we should define a key as much mingful name.\n",
    "* Although key name is same inside a dictionary it will take last occurens of key and value as output we can see in output. "
   ]
  },
  {
   "cell_type": "code",
   "execution_count": 31,
   "metadata": {},
   "outputs": [
    {
     "data": {
      "text/plain": [
       "dict_keys(['cat'])"
      ]
     },
     "execution_count": 31,
     "metadata": {},
     "output_type": "execute_result"
    }
   ],
   "source": [
    "spam ={\"cat\":\"cat\"}\n",
    "spam.keys()  # first cat name in dict we know fist element is key after : hold a value\n",
    "\n",
    "# as a value inside dict we can hold list, tuple, sub-dict, string, number but as a key we cannt difine list, dict, tuple as key inside a dictionary."
   ]
  },
  {
   "cell_type": "code",
   "execution_count": 32,
   "metadata": {},
   "outputs": [
    {
     "ename": "TypeError",
     "evalue": "unhashable type: 'list'",
     "output_type": "error",
     "traceback": [
      "\u001b[1;31m---------------------------------------------------------------------------\u001b[0m",
      "\u001b[1;31mTypeError\u001b[0m                                 Traceback (most recent call last)",
      "\u001b[1;32m<ipython-input-32-b38a43e16cbb>\u001b[0m in \u001b[0;36m<module>\u001b[1;34m\u001b[0m\n\u001b[1;32m----> 1\u001b[1;33m \u001b[0mdi\u001b[0m \u001b[1;33m=\u001b[0m \u001b[1;33m{\u001b[0m\u001b[1;33m[\u001b[0m\u001b[1;36m4\u001b[0m\u001b[1;33m,\u001b[0m\u001b[1;36m5\u001b[0m\u001b[1;33m,\u001b[0m\u001b[1;36m4\u001b[0m\u001b[1;33m,\u001b[0m\u001b[1;36m5\u001b[0m\u001b[1;33m]\u001b[0m\u001b[1;33m:\u001b[0m\u001b[1;34m\"kanha\"\u001b[0m\u001b[1;33m}\u001b[0m\u001b[1;33m\u001b[0m\u001b[1;33m\u001b[0m\u001b[0m\n\u001b[0m",
      "\u001b[1;31mTypeError\u001b[0m: unhashable type: 'list'"
     ]
    }
   ],
   "source": [
    "di = {[4,5,4,5]:\"kanha\"}"
   ]
  },
  {
   "cell_type": "code",
   "execution_count": 29,
   "metadata": {},
   "outputs": [],
   "source": [
    "x = {\"#\":10,\"%\":11,\"x\":11}\n",
    "y = {\"x\":\"A\",1:11,\"x\":\"B\"}  # here we can see dict has same key name but it will consider last event of occurens,\"Python is an interpreted\"\n",
    "z = {2:\"B\",\"y\":11,\"z\":11.2}"
   ]
  },
  {
   "cell_type": "code",
   "execution_count": 30,
   "metadata": {},
   "outputs": [
    {
     "name": "stdout",
     "output_type": "stream",
     "text": [
      "{'#': 10, '%': 11, 'x': 11}\n",
      "{'x': 'B', 1: 11}\n",
      "{2: 'B', 'y': 11, 'z': 11.2}\n"
     ]
    }
   ],
   "source": [
    "print(x)\n",
    "print(y)\n",
    "print(z)"
   ]
  },
  {
   "cell_type": "markdown",
   "metadata": {},
   "source": [
    "Q 6. If a dictionary is stored in spam, what is the difference between the expressions 'cat' in spam and 'cat' in spam.values()?"
   ]
  },
  {
   "cell_type": "code",
   "execution_count": 1,
   "metadata": {},
   "outputs": [
    {
     "name": "stdout",
     "output_type": "stream",
     "text": [
      "Value 'cat' exists\n"
     ]
    }
   ],
   "source": [
    "#The below code searches for a value called 'cat' in the dictionary spam and if it exists prints the value \n",
    "spam = {'name': 'cat', 'color':'black', 'weight':8}\n",
    "\n",
    "if 'cat' in spam.values():\n",
    "    print('Value \\'cat\\' exists')\n",
    "    \n",
    "# Here the the value 'cat' exists in the dictionary spam. So the if condition is succesful and prints the value"
   ]
  },
  {
   "cell_type": "markdown",
   "metadata": {},
   "source": [
    "Q 7. What is a shortcut for the following code?\n",
    "   * if 'color' not in spam:\n",
    "   * spam['color'] = 'black'"
   ]
  },
  {
   "cell_type": "code",
   "execution_count": 9,
   "metadata": {},
   "outputs": [],
   "source": [
    "# Three possiable solutions"
   ]
  },
  {
   "cell_type": "code",
   "execution_count": 6,
   "metadata": {},
   "outputs": [
    {
     "name": "stdout",
     "output_type": "stream",
     "text": [
      "{'name': 'cat', 'weight': 10, 'color': 'black'}\n"
     ]
    }
   ],
   "source": [
    "spam = {'name': 'cat', 'weight':10}\n",
    "\n",
    "if 'color' not in spam:\n",
    "    spam['color'] = 'black'\n",
    "else:\n",
    "    print(\"existed\")\n",
    "print(spam)"
   ]
  },
  {
   "cell_type": "code",
   "execution_count": 8,
   "metadata": {},
   "outputs": [
    {
     "name": "stdout",
     "output_type": "stream",
     "text": [
      "existed\n"
     ]
    }
   ],
   "source": [
    "spam1 = {'name': 'cat', 'weight':10,\"color\":'black'}\n",
    "\n",
    "if 'color' not in spam1:\n",
    "    spam1['color'] = 'black'\n",
    "else:\n",
    "    print(\"existed\")"
   ]
  },
  {
   "cell_type": "code",
   "execution_count": null,
   "metadata": {},
   "outputs": [],
   "source": [
    "spam = {'name': 'cat', 'weight':10}\n",
    "\n",
    "print (spam)\n",
    "spam.setdefault('color','Black')\n",
    "print (spam)"
   ]
  },
  {
   "cell_type": "markdown",
   "metadata": {},
   "source": [
    "Q 8. How do you \"pretty print\" dictionary values using which module and function? \n",
    "\n",
    "* pretty print is python module that provied the capablity to print the python data type like dict is more readable format."
   ]
  },
  {
   "cell_type": "code",
   "execution_count": 14,
   "metadata": {},
   "outputs": [
    {
     "name": "stdout",
     "output_type": "stream",
     "text": [
      "({'DOJ': 2021, 'Name': 'Kanha', 'course': 'FSDS'},\n",
      " {'DOJ': 2020, 'Name': 'Raj', 'course': 'DA'},\n",
      " {'DOJ': 2020, 'Name': 'Veer', 'course': 'DLCVNLP'})\n"
     ]
    }
   ],
   "source": [
    "import pprint\n",
    "dit =({'Name':'Kanha','course':\"FSDS\",'DOJ':2021},\n",
    "     {'Name':'Raj','course':\"DA\",'DOJ':2020},\n",
    "     {'Name':'Veer','course':\"DLCVNLP\",'DOJ':2020})\n",
    "\n",
    "pprint.pprint(dit)"
   ]
  },
  {
   "cell_type": "code",
   "execution_count": 15,
   "metadata": {},
   "outputs": [
    {
     "name": "stdout",
     "output_type": "stream",
     "text": [
      "({'Name': 'Kanha', 'course': 'FSDS', 'DOJ': 2021}, {'Name': 'Raj', 'course': 'DA', 'DOJ': 2020}, {'Name': 'Veer', 'course': 'DLCVNLP', 'DOJ': 2020})\n"
     ]
    }
   ],
   "source": [
    "print(dit)"
   ]
  },
  {
   "cell_type": "markdown",
   "metadata": {},
   "source": [
    "The pprint() output is more readable campare to print(). What it does is to break each dictionary element in the array right after the commas while also able to sort the dictionary’s values by key.\n",
    "Good  thing is here to be  note is that pprint() will not pretty print nested objects, "
   ]
  }
 ],
 "metadata": {
  "kernelspec": {
   "display_name": "Python 3",
   "language": "python",
   "name": "python3"
  },
  "language_info": {
   "codemirror_mode": {
    "name": "ipython",
    "version": 3
   },
   "file_extension": ".py",
   "mimetype": "text/x-python",
   "name": "python",
   "nbconvert_exporter": "python",
   "pygments_lexer": "ipython3",
   "version": "3.7.0"
  }
 },
 "nbformat": 4,
 "nbformat_minor": 2
}
