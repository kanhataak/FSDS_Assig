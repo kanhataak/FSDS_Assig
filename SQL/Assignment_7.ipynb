{
 "cells": [
  {
   "cell_type": "markdown",
   "metadata": {},
   "source": [
    "# Assignment_7\n",
    "###### Q-13. Write an SQL query to show only odd rows from a table.\n",
    " \n",
    "     SELECT * FROM workers WHERE MOD(id,2)<>0\n",
    "\n",
    "<img src=\"img/71.jpg\" width=\"700\"/>\n",
    "\n",
    "###### Q-14. Write an SQL query to clone a new table from another table.\n",
    "\n",
    "    create table workerclone like workers\n",
    "    INSERT INTO workerclone SELECT * FROM workers\n",
    "* we can use both first query will create same table formate that we have and 2nd is insert data into newly table...\n",
    "\n",
    "* Below query will create table as well do the inerstion operation into newly created table...\n",
    "        CREATE TABLE cloneworker SELECT * FROM workers;\n",
    "\n",
    "<img src=\"img/72.jpg\" width=\"700\"/>"
   ]
  },
  {
   "cell_type": "code",
   "execution_count": null,
   "metadata": {},
   "outputs": [],
   "source": []
  }
 ],
 "metadata": {
  "kernelspec": {
   "display_name": "Python 3",
   "language": "python",
   "name": "python3"
  },
  "language_info": {
   "codemirror_mode": {
    "name": "ipython",
    "version": 3
   },
   "file_extension": ".py",
   "mimetype": "text/x-python",
   "name": "python",
   "nbconvert_exporter": "python",
   "pygments_lexer": "ipython3",
   "version": "3.7.0"
  }
 },
 "nbformat": 4,
 "nbformat_minor": 4
}
