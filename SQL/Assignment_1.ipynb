{
 "cells": [
  {
   "cell_type": "markdown",
   "metadata": {},
   "source": [
    "## Assignment_1\n",
    "\n",
    "### Customer Data\n",
    "<img src=\"img/customerdata.jpg\" width=\"700\"/>\n",
    "\n",
    "#### Q-1. Write an SQL query to fetch “FIRST_NAME” from Worker table using the alias name as <WORKER_NAME>.\n",
    "\n",
    "    SELECT FirstName AS worker_name From worker\n",
    "<img src=\"img/A1-1.jpg\" width=\"700\"/>\n",
    "    \n",
    "#### Q-2. Write an SQL query to fetch unique values of DEPARTMENT from Worker table.\n",
    "\n",
    "    SELECT DISTINCT Deparment FROM worker\n",
    "<img src=\"img/A1-2.jpg\" width=\"700\"/>\n",
    "\n",
    "#### Q-3. Write an SQL query to show the last 5 record from a table.\n",
    "\n",
    "    (SELECT * FROM worker ORDER BY EmpID DESC LIMIT 5) ORDER BY EmpID ASC\n",
    "<img src=\"img/A1-3.jpg\" width=\"700\"/>"
   ]
  },
  {
   "cell_type": "code",
   "execution_count": null,
   "metadata": {},
   "outputs": [],
   "source": [
    "7597053055"
   ]
  }
 ],
 "metadata": {
  "kernelspec": {
   "display_name": "Python 3",
   "language": "python",
   "name": "python3"
  },
  "language_info": {
   "codemirror_mode": {
    "name": "ipython",
    "version": 3
   },
   "file_extension": ".py",
   "mimetype": "text/x-python",
   "name": "python",
   "nbconvert_exporter": "python",
   "pygments_lexer": "ipython3",
   "version": "3.7.0"
  }
 },
 "nbformat": 4,
 "nbformat_minor": 4
}
