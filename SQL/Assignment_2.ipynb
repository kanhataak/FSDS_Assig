{
 "cells": [
  {
   "cell_type": "markdown",
   "metadata": {},
   "source": [
    "# Assignment_2\n",
    "\n",
    "#### Q-1. Write an SQL query to print the first three characters of  FIRST_NAME from Worker table.\n",
    "\n",
    "     SELECT SUBSTRING(FirstName,1,3) FROM worker\n",
    "     \n",
    "<img src=\"img/A2-1.jpg\" width=\"700\"/>\n",
    "        \n",
    "#### Q-2. Write an SQL query to find the position of the alphabet (‘a’) in the first name column ‘Amitabh’ from Worker table.\n",
    "    SELECT POSITION(\"A\" IN FirstName) FROM worker WHERE FirstName=\"Amitabh\"\n",
    "    SELECT POSITION(\"a\" IN FirstName) FROM worker WHERE FirstName=\"Amitabh\"\n",
    "* Both Query will give the same result boz it will take first iter\n",
    "    \n",
    "<img src=\"img/A2-2.jpg\" width=\"700\"/>\n",
    "\n",
    "#### # Q-3. Write an SQL query to print the name of employees having the highest salary in each department.\n",
    "\n",
    "    SELECT Department, MAX(salary) FROM worker GROUP BY Department\n",
    "<img src=\"img/a2-3.jpg\" width=\"700\"/>"
   ]
  },
  {
   "cell_type": "code",
   "execution_count": null,
   "metadata": {},
   "outputs": [],
   "source": []
  }
 ],
 "metadata": {
  "kernelspec": {
   "display_name": "Python 3",
   "language": "python",
   "name": "python3"
  },
  "language_info": {
   "codemirror_mode": {
    "name": "ipython",
    "version": 3
   },
   "file_extension": ".py",
   "mimetype": "text/x-python",
   "name": "python",
   "nbconvert_exporter": "python",
   "pygments_lexer": "ipython3",
   "version": "3.7.0"
  }
 },
 "nbformat": 4,
 "nbformat_minor": 4
}
