{
 "cells": [
  {
   "cell_type": "code",
   "execution_count": 1,
   "metadata": {},
   "outputs": [],
   "source": [
    "import mysql.connector as conn"
   ]
  },
  {
   "cell_type": "code",
   "execution_count": 2,
   "metadata": {
    "collapsed": true
   },
   "outputs": [
    {
     "ename": "ProgrammingError",
     "evalue": "1064 (42000): You have an error in your SQL syntax; check the manual that corresponds to your MySQL server version for the right syntax to use near ',PRIMARY KEY (id)' at line 1",
     "output_type": "error",
     "traceback": [
      "\u001b[1;31m---------------------------------------------------------------------------\u001b[0m",
      "\u001b[1;31mProgrammingError\u001b[0m                          Traceback (most recent call last)",
      "\u001b[1;32m<ipython-input-2-1d331e042d5d>\u001b[0m in \u001b[0;36m<module>\u001b[1;34m\u001b[0m\n\u001b[0;32m      8\u001b[0m \u001b[1;33m\u001b[0m\u001b[0m\n\u001b[0;32m      9\u001b[0m  \u001b[1;31m#create a cursor to execute queries\u001b[0m\u001b[1;33m\u001b[0m\u001b[1;33m\u001b[0m\u001b[0m\n\u001b[1;32m---> 10\u001b[1;33m \u001b[0mcur\u001b[0m\u001b[1;33m.\u001b[0m\u001b[0mexecute\u001b[0m\u001b[1;33m(\u001b[0m\u001b[0mquery\u001b[0m\u001b[1;33m)\u001b[0m\u001b[1;33m\u001b[0m\u001b[0m\n\u001b[0m\u001b[0;32m     11\u001b[0m \u001b[0mprint\u001b[0m\u001b[1;33m(\u001b[0m\u001b[1;34m\"Table Created!!\"\u001b[0m\u001b[1;33m)\u001b[0m\u001b[1;33m\u001b[0m\u001b[0m\n",
      "\u001b[1;32md:\\anaconda3\\envs\\nlp_master\\lib\\site-packages\\mysql\\connector\\cursor.py\u001b[0m in \u001b[0;36mexecute\u001b[1;34m(self, operation, params, multi)\u001b[0m\n\u001b[0;32m    566\u001b[0m \u001b[1;33m\u001b[0m\u001b[0m\n\u001b[0;32m    567\u001b[0m         \u001b[1;32mtry\u001b[0m\u001b[1;33m:\u001b[0m\u001b[1;33m\u001b[0m\u001b[0m\n\u001b[1;32m--> 568\u001b[1;33m             \u001b[0mself\u001b[0m\u001b[1;33m.\u001b[0m\u001b[0m_handle_result\u001b[0m\u001b[1;33m(\u001b[0m\u001b[0mself\u001b[0m\u001b[1;33m.\u001b[0m\u001b[0m_connection\u001b[0m\u001b[1;33m.\u001b[0m\u001b[0mcmd_query\u001b[0m\u001b[1;33m(\u001b[0m\u001b[0mstmt\u001b[0m\u001b[1;33m)\u001b[0m\u001b[1;33m)\u001b[0m\u001b[1;33m\u001b[0m\u001b[0m\n\u001b[0m\u001b[0;32m    569\u001b[0m         \u001b[1;32mexcept\u001b[0m \u001b[0merrors\u001b[0m\u001b[1;33m.\u001b[0m\u001b[0mInterfaceError\u001b[0m\u001b[1;33m:\u001b[0m\u001b[1;33m\u001b[0m\u001b[0m\n\u001b[0;32m    570\u001b[0m             \u001b[1;32mif\u001b[0m \u001b[0mself\u001b[0m\u001b[1;33m.\u001b[0m\u001b[0m_connection\u001b[0m\u001b[1;33m.\u001b[0m\u001b[0m_have_next_result\u001b[0m\u001b[1;33m:\u001b[0m  \u001b[1;31m# pylint: disable=W0212\u001b[0m\u001b[1;33m\u001b[0m\u001b[0m\n",
      "\u001b[1;32md:\\anaconda3\\envs\\nlp_master\\lib\\site-packages\\mysql\\connector\\connection.py\u001b[0m in \u001b[0;36mcmd_query\u001b[1;34m(self, query, raw, buffered, raw_as_string)\u001b[0m\n\u001b[0;32m    684\u001b[0m             \u001b[0mquery\u001b[0m \u001b[1;33m=\u001b[0m \u001b[0mquery\u001b[0m\u001b[1;33m.\u001b[0m\u001b[0mencode\u001b[0m\u001b[1;33m(\u001b[0m\u001b[1;34m'utf-8'\u001b[0m\u001b[1;33m)\u001b[0m\u001b[1;33m\u001b[0m\u001b[0m\n\u001b[0;32m    685\u001b[0m         \u001b[1;32mtry\u001b[0m\u001b[1;33m:\u001b[0m\u001b[1;33m\u001b[0m\u001b[0m\n\u001b[1;32m--> 686\u001b[1;33m             \u001b[0mresult\u001b[0m \u001b[1;33m=\u001b[0m \u001b[0mself\u001b[0m\u001b[1;33m.\u001b[0m\u001b[0m_handle_result\u001b[0m\u001b[1;33m(\u001b[0m\u001b[0mself\u001b[0m\u001b[1;33m.\u001b[0m\u001b[0m_send_cmd\u001b[0m\u001b[1;33m(\u001b[0m\u001b[0mServerCmd\u001b[0m\u001b[1;33m.\u001b[0m\u001b[0mQUERY\u001b[0m\u001b[1;33m,\u001b[0m \u001b[0mquery\u001b[0m\u001b[1;33m)\u001b[0m\u001b[1;33m)\u001b[0m\u001b[1;33m\u001b[0m\u001b[0m\n\u001b[0m\u001b[0;32m    687\u001b[0m         \u001b[1;32mexcept\u001b[0m \u001b[0merrors\u001b[0m\u001b[1;33m.\u001b[0m\u001b[0mProgrammingError\u001b[0m \u001b[1;32mas\u001b[0m \u001b[0merr\u001b[0m\u001b[1;33m:\u001b[0m\u001b[1;33m\u001b[0m\u001b[0m\n\u001b[0;32m    688\u001b[0m             \u001b[1;32mif\u001b[0m \u001b[0merr\u001b[0m\u001b[1;33m.\u001b[0m\u001b[0merrno\u001b[0m \u001b[1;33m==\u001b[0m \u001b[1;36m3948\u001b[0m \u001b[1;32mand\u001b[0m\u001b[0;31m \u001b[0m\u001b[0;31m\\\u001b[0m\u001b[1;33m\u001b[0m\u001b[0m\n",
      "\u001b[1;32md:\\anaconda3\\envs\\nlp_master\\lib\\site-packages\\mysql\\connector\\connection.py\u001b[0m in \u001b[0;36m_handle_result\u001b[1;34m(self, packet)\u001b[0m\n\u001b[0;32m    571\u001b[0m             \u001b[1;32mreturn\u001b[0m \u001b[0mself\u001b[0m\u001b[1;33m.\u001b[0m\u001b[0m_handle_eof\u001b[0m\u001b[1;33m(\u001b[0m\u001b[0mpacket\u001b[0m\u001b[1;33m)\u001b[0m\u001b[1;33m\u001b[0m\u001b[0m\n\u001b[0;32m    572\u001b[0m         \u001b[1;32melif\u001b[0m \u001b[0mpacket\u001b[0m\u001b[1;33m[\u001b[0m\u001b[1;36m4\u001b[0m\u001b[1;33m]\u001b[0m \u001b[1;33m==\u001b[0m \u001b[1;36m255\u001b[0m\u001b[1;33m:\u001b[0m\u001b[1;33m\u001b[0m\u001b[0m\n\u001b[1;32m--> 573\u001b[1;33m             \u001b[1;32mraise\u001b[0m \u001b[0merrors\u001b[0m\u001b[1;33m.\u001b[0m\u001b[0mget_exception\u001b[0m\u001b[1;33m(\u001b[0m\u001b[0mpacket\u001b[0m\u001b[1;33m)\u001b[0m\u001b[1;33m\u001b[0m\u001b[0m\n\u001b[0m\u001b[0;32m    574\u001b[0m \u001b[1;33m\u001b[0m\u001b[0m\n\u001b[0;32m    575\u001b[0m         \u001b[1;31m# We have a text result set\u001b[0m\u001b[1;33m\u001b[0m\u001b[1;33m\u001b[0m\u001b[0m\n",
      "\u001b[1;31mProgrammingError\u001b[0m: 1064 (42000): You have an error in your SQL syntax; check the manual that corresponds to your MySQL server version for the right syntax to use near ',PRIMARY KEY (id)' at line 1"
     ]
    }
   ],
   "source": [
    "mydb = conn.connect(host= \"localhost\",database=\"customer\",user=\"root\", passwd=\"password\", use_pure=True)\n",
    "# Creating Table\n",
    "query = \"CREATE TABLE workers (id INT NOT NULL AUTO_INCREMENT,\"\\\n",
    "\"EmpID int(10), FirstName varchar(20),\"\\\n",
    "\"LastName varchar(20), Department varchar(30), salary int(20), EmailID varchar(30),Joining DATE),PRIMARY KEY (id)\"\n",
    "cur = mydb.cursor()\n",
    "# cur.execute(\"insert into workers values(201, 'Ankit', 'Kumar', 'IT',12000,'ankit@gmail.com','2014-03-13')\")\n",
    "\n",
    " #create a cursor to execute queries\n",
    "cur.execute(query)\n",
    "print(\"Table Created!!\")"
   ]
  },
  {
   "cell_type": "code",
   "execution_count": 12,
   "metadata": {},
   "outputs": [],
   "source": [
    "mydb = conn.connect(host= \"localhost\",database=\"customer\",user=\"root\", passwd=\"password\", use_pure=True)\n",
    "cur = mydb.cursor()"
   ]
  },
  {
   "cell_type": "code",
   "execution_count": 4,
   "metadata": {},
   "outputs": [],
   "source": [
    "cur.execute(\"insert into workers (EmpID, FirstName,LastName, Department, salary, EmailID,Joining) values(201, 'Priya', 'Tawer', 'IT','12000','priya@gmail.com','2014-03-12')\")"
   ]
  },
  {
   "cell_type": "code",
   "execution_count": 7,
   "metadata": {},
   "outputs": [],
   "source": [
    " #create a cursor to execute queries\n",
    "\n",
    "\n",
    "cur.execute(\"insert into workers (EmpID, FirstName,LastName, Department, salary, EmailID,Joining) values(202, 'Dinesh', 'Kumar', 'HR','42000','abcd@gmail.com','2014-04-14')\")\n",
    "cur.execute(\"insert into workers (EmpID, FirstName,LastName, Department, salary, EmailID,Joining) values(203, 'Krish', 'Meena', 'Sales','32000','krish@gmail.com','2014-02-03')\")\n",
    "cur.execute(\"insert into workers (EmpID, FirstName,LastName, Department, salary, EmailID,Joining) values(204, 'Viskash', 'Vyas', 'HR','22000','afdgd@gmail.com','2014-05-02')\")\n",
    "cur.execute(\"insert into workers (EmpID, FirstName,LastName, Department, salary, EmailID,Joining) values(205, 'Dinesh', 'Bhati', 'Accounts','12000','dinesh@gmail.com','2015-09-19')\")\n",
    "cur.execute(\"insert into workers (EmpID, FirstName,LastName, Department, salary, EmailID,Joining) values(206, 'Harjinder', 'Kaur', 'Finance','19000','harkakd@gmail.com','2021-03-15')\")\n",
    "cur.execute(\"insert into workers (EmpID, FirstName,LastName, Department, salary, EmailID,Joining) values(207, 'Bharti', 'Saini', 'Sales','10000','bharti@gmail.com','2017-07-018')\")\n",
    "cur.execute(\"insert into workers (EmpID, FirstName,LastName, Department, salary, EmailID,Joining) values(208, 'Amitabh', 'Singh', 'Accounts','50000','amitabh@gmail.com','2018-04-14')\")\n",
    "cur.execute(\"insert into workers (EmpID, FirstName,LastName, Department, salary, EmailID,Joining) values(209, 'Sumit', 'Thakur', 'Finance','45000','sumit@gmail.com','2020-04-15')\")\n",
    "cur.execute(\"insert into workers (EmpID, FirstName,LastName, Department, salary, EmailID,Joining) values(211, 'Pawan', 'Meena', 'Medical','42000','pawan@gmail.com','2020-12-15')\")\n",
    "cur.execute(\"insert into workers (EmpID, FirstName,LastName, Department, salary, EmailID,Joining) values(210, 'kanha', 'Taak', 'Medical','32000','kanha@gmail.com','2014-01-21')\")\n",
    "cur.execute(\"insert into workers (EmpID, FirstName,LastName, Department, salary, EmailID,Joining) values(212, 'Divya', 'Singh', 'IT','30000','divya@gmail.com','2016-05-16')\")\n",
    "cur.execute(\"insert into workers (EmpID, FirstName,LastName, Department, salary, EmailID,Joining) values(213, 'Pardeep', 'Kumar', 'Sales','20000','fldslf12gmail.com','2015-03-17')\")"
   ]
  },
  {
   "cell_type": "code",
   "execution_count": 13,
   "metadata": {},
   "outputs": [],
   "source": [
    "cur.execute(\"insert into workers (EmpID, FirstName,LastName, Department, salary, EmailID,Joining) values(215, 'Maanveer', 'singh', 'Admin','20000','veer@gmail.com','2014-02-17')\")"
   ]
  },
  {
   "cell_type": "code",
   "execution_count": 15,
   "metadata": {},
   "outputs": [],
   "source": [
    "\n",
    "cur.execute(\"insert into workers (EmpID, FirstName,LastName, Department, salary, EmailID,Joining) values(219, 'Sumit', 'Thakur', 'Finance','45000','sumit@gmail.com','2020-04-15')\")"
   ]
  },
  {
   "cell_type": "code",
   "execution_count": 16,
   "metadata": {},
   "outputs": [],
   "source": [
    "mydb.commit()"
   ]
  },
  {
   "cell_type": "markdown",
   "metadata": {},
   "source": [
    "# Assignment_1\n",
    "\n",
    "### Customer Data\n",
    "<img src=\"img/customerdata.jpg\" width=\"700\"/>\n",
    "\n",
    "#### Q-1. Write an SQL query to fetch “FIRST_NAME” from Worker table using the alias name as <WORKER_NAME>.\n",
    "\n",
    "    SELECT FirstName AS worker_name From worker\n",
    "<img src=\"img/A1-1.jpg\" width=\"700\"/>\n",
    "    \n",
    "#### Q-2. Write an SQL query to fetch unique values of DEPARTMENT from Worker table.\n",
    "\n",
    "    SELECT DISTINCT Deparment FROM worker\n",
    "<img src=\"img/A1-2.jpg\" width=\"700\"/>\n",
    "\n",
    "#### Q-3. Write an SQL query to show the last 5 record from a table.\n",
    "\n",
    "    (SELECT * FROM worker ORDER BY EmpID DESC LIMIT 5) ORDER BY EmpID ASC\n",
    "<img src=\"img/A1-3.jpg\" width=\"700\"/>"
   ]
  },
  {
   "cell_type": "markdown",
   "metadata": {},
   "source": [
    "# Assignment_2 "
   ]
  },
  {
   "cell_type": "markdown",
   "metadata": {},
   "source": [
    "#### Q-1. Write an SQL query to print the first three characters of  FIRST_NAME from Worker table.\n",
    "\n",
    "     SELECT SUBSTRING(FirstName,1,3) FROM worker\n",
    "     \n",
    "<img src=\"img/A2-1.jpg\" width=\"700\"/>\n",
    "        \n",
    "#### Q-2. Write an SQL query to find the position of the alphabet (‘a’) in the first name column ‘Amitabh’ from Worker table.\n",
    "    SELECT POSITION(\"A\" IN FirstName) FROM worker WHERE FirstName=\"Amitabh\"\n",
    "    SELECT POSITION(\"a\" IN FirstName) FROM worker WHERE FirstName=\"Amitabh\"\n",
    "* Both Query will give the same result boz it will take first iter\n",
    "    \n",
    "<img src=\"img/A2-2.jpg\" width=\"700\"/>\n",
    "\n",
    "#### # Q-3. Write an SQL query to print the name of employees having the highest salary in each department.\n",
    "\n",
    "    SELECT Department, MAX(salary) FROM worker GROUP BY Department\n",
    "<img src=\"img/a2-3.jpg\" width=\"700\"/>"
   ]
  },
  {
   "cell_type": "markdown",
   "metadata": {},
   "source": [
    "# Assignment_3\n",
    "\n",
    "#### Q-1. Write an SQL query to print the FIRST_NAME from Worker table after removing white spaces from the right side.\n",
    "\n",
    "            SELECT RTRIM(FirstName) FROM worker\n",
    "<img src=\"img/a31.jpg\" width=\"700\"/>\n",
    "\n",
    "#### Q-2. Write an SQL query that fetches the unique values of DEPARTMENT from Worker table and prints its length.\n",
    "\n",
    "        SELECT DISTINCT Department, LENGTH(Department) AS DPLength FROM worker\n",
    " <img src=\"img/a32.jpg\" width=\"700\"/>\n",
    "\n",
    "#### Q-3. Write an SQL query to fetch nth max salaries from a table.\n",
    "\n",
    "    SELECT MAX(salary) FROM worker\n",
    " <img src=\"img/a33.jpg\" width=\"700\"/>   \n",
    "    "
   ]
  },
  {
   "cell_type": "markdown",
   "metadata": {},
   "source": [
    "# Assignment_4\n",
    "\n",
    "##### Q-1. Write an SQL query to print the FIRST_NAME from Worker table after replacing ‘a’ with ‘A’.\n",
    "\n",
    "        SELECT REPLACE(FirstName,\"a\",\"A\") AS NewName FROM worker\n",
    " <img src=\"img/a41.jpg\" width=\"700\"/>\n",
    "\n",
    "##### Q-2. Write an SQL query to print all Worker details from the Worker table order by FIRST_NAME Ascending and DEPARTMENT Descending.\n",
    "\n",
    "    SELECT * FROM worker ORDER BY(FirstName) ASC, Department DESC \n",
    "  <img src=\"img/a42.jpg\" width=\"700\"/>\n",
    "\n",
    "##### Q-3. Write an SQL query to fetch the names of workers who earn the highest salary.\n",
    "  \n",
    "      SELECT FirstName, salary FROM worker WHERE salary = (SELECT MAX(salary),FORM worker)\n",
    "\n",
    " <img src=\"img/a43.jpg\" width=\"700\"/>\n"
   ]
  },
  {
   "cell_type": "markdown",
   "metadata": {},
   "source": [
    "# Assignment_5\n",
    "##### Q-1. Write an SQL query to print details of workers excluding first names, “Vipul” and “Satish” from Worker table.\n",
    "\n",
    "<img src=\"img/51.jpg\" width=\"700\"/>\n",
    "\n",
    "##### Q-2. Write an SQL query to print details of the Workers whose FIRST_NAME ends with ‘h’ and contains six alphabets.\n",
    "\n",
    "        SELECT * FROM worker WHERE FirstName LIKE '______h%'\n",
    " <img src=\"img/a52.jpg\" width=\"700\"/>\n",
    "\n",
    "##### Q-3. Write a query to validate Email of Employee.\n",
    "    insert into worker values('Predeep', 'Kumar', 'Sales','30000','dsfsdfsdfgmail.com','222')\")\n",
    "    \n",
    "<img src=\"img/invalidemail.jpg\" width=\"700\"/>\n",
    "\n",
    "        SELECT * FROM worker WHERE EmailID LIKE '%@%.___%'\n",
    "        \n",
    "<img src=\"img/53.jpg\" width=\"700\"/>\n"
   ]
  },
  {
   "cell_type": "markdown",
   "metadata": {},
   "source": [
    "# Assingnment_6\n",
    "\n",
    "###### Q-1. Write an SQL query to print details of the Workers who have joined in Feb’2014.\n",
    "\n",
    "\n",
    "    SELECT * FORM workers WHERE YEAR(joining) = 2014 AND MONTH(joining)=02\n",
    "\n",
    "\n",
    "<img src=\"img/61.jpg\" width=\"700\"/>\n",
    "\n",
    "###### Q-2. Write an SQL query to fetch duplicate records having matching data in some fields of a table.\n",
    "\n",
    "\n",
    "<img src=\"img/duplicate.jpg\" width=\"700\"/>\n",
    "\n",
    "    SELECT FirstName, EmailID, COUNT(*) FROM worker GROUP BY FirstName, EmailID, HAVING COUNT(*) > 1\n",
    "\n",
    "<img src=\"img/62.jpg\" width=\"700\"/>\n",
    "\n",
    "###### Q-3. How to remove duplicate rows from Employees table.\n",
    "\n",
    "workers table with duplicate record...\n",
    "    \n",
    "   <img src=\"img/dupre.jpg\" width=\"700\"/>\n",
    "\n",
    "    select *, count(*) as duplicatecount from workers group by FirstName,EmailID;\n",
    "\n",
    "<img src=\"img/63.jpg\" width=\"700\"/>\n",
    "\n",
    "we can see table has record where FirstName and EmailID was two time was repeted after execute the query its Deleted..."
   ]
  },
  {
   "cell_type": "code",
   "execution_count": null,
   "metadata": {},
   "outputs": [],
   "source": []
  },
  {
   "cell_type": "markdown",
   "metadata": {},
   "source": [
    "# Assignment_7\n",
    "###### Q-13. Write an SQL query to show only odd rows from a table.\n",
    " \n",
    "     SELECT * FROM workers WHERE MOD(id,2)<>0\n",
    "\n",
    "<img src=\"img/71.jpg\" width=\"700\"/>\n",
    "\n",
    "###### Q-14. Write an SQL query to clone a new table from another table.\n",
    "\n",
    "    create table workerclone like workers\n",
    "    INSERT INTO workerclone SELECT * FROM workers\n",
    "* we can use both first query will create same table formate that we have and 2nd is insert data into newly table...\n",
    "\n",
    "* Below query will create table as well do the inerstion operation into newly created table...\n",
    "        CREATE TABLE cloneworker SELECT * FROM workers;\n",
    "\n",
    "<img src=\"img/72.jpg\" width=\"700\"/>"
   ]
  },
  {
   "cell_type": "markdown",
   "metadata": {},
   "source": [
    "# Assignment_8\n",
    "###### Q-15. Write an SQL query to fetch intersecting records of two tables.\n",
    "\n",
    "    Considering the following two table\n",
    "##### workers is as follows\n",
    "\n",
    "<img src=\"img/firsttable.jpg\" width=\"700\"/>\n",
    "\n",
    "##### details is as follows\n",
    "\n",
    "<img src=\"img/2ndtable.jpg\" width=\"700\"/>\n",
    "\n",
    "Now, let us join these two tables in our SELECT statement as follows.\n",
    "\n",
    "    SELECT w.EmpID, d.EmpID, w.FirstName,w.EmailID, d.address, d.age FROM workers w\n",
    "      JOIN details d ON w.EmpID = d.EmpID \n",
    "      \n",
    "This would produce the following result.\n",
    "\n",
    "<img src=\"img/82.jpg\" width=\"700\"/>\n",
    "\n",
    "\n",
    "\n",
    "###### Q-16. Write an SQL query to show records from one table that another table does not have.\n",
    "\n",
    "For this query we have same table which was we have above \n",
    "    \n",
    "        SELECT * FROM workers WHERE NOT EXISTS (SELECT * FROM details WHERE workers.EmpID = details.EmpID)\n",
    "        \n",
    "   <img src=\"img/82a.jpg\" width=\"700\"/>"
   ]
  },
  {
   "cell_type": "markdown",
   "metadata": {},
   "source": [
    "# Assignment_9\n",
    "\n",
    "######  Q-17. Write an SQL query to show the top n (say 10) records of a table.\n",
    "\n",
    "    select * from workers order by salary desc limit 10;\n",
    "\n",
    "<img src=\"img/91.jpg\" width=\"700\"/>\n",
    "\n",
    "###### Q-18. Write an SQL query to determine the nth (say n=5) highest salary from a table.\n",
    "\n",
    "    select * from workers order by salary desc limit 5,1;\n",
    "\n",
    "<img src=\"img/92.jpg\" width=\"700\"/>"
   ]
  },
  {
   "cell_type": "markdown",
   "metadata": {},
   "source": [
    "# Assignment_10\n",
    "\n",
    "###### Q-19. Write an SQL query to determine the 5th highest salary without using TOP or limit method.\n",
    "\n",
    "    SELECT EmpID, FirstName, salary FROM workers w WHERE 6-1 = (SELECT COUNT(DISTINCT salary) FROM workers w2 WHERE w2.salary >= w.salary)\n",
    "\n",
    "<img src=\"img/101.jpg\" width=\"700\"/>\n",
    "\n",
    "###### Q-20. Write an SQL query to fetch the list of employees with the same salary.\n",
    "\n",
    "    select distinct w.FirstName,w.EmailID, w.salary from workers w, workers w1 where w.salary = w1.salary and w.FirstName != w1.FirstName;\n",
    "\n",
    "<img src=\"img/102.jpg\" width=\"700\"/>"
   ]
  },
  {
   "cell_type": "code",
   "execution_count": null,
   "metadata": {},
   "outputs": [],
   "source": []
  }
 ],
 "metadata": {
  "kernelspec": {
   "display_name": "Python 3",
   "language": "python",
   "name": "python3"
  },
  "language_info": {
   "codemirror_mode": {
    "name": "ipython",
    "version": 3
   },
   "file_extension": ".py",
   "mimetype": "text/x-python",
   "name": "python",
   "nbconvert_exporter": "python",
   "pygments_lexer": "ipython3",
   "version": "3.7.0"
  }
 },
 "nbformat": 4,
 "nbformat_minor": 4
}
