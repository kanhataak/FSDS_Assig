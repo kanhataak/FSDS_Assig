{
 "cells": [
  {
   "cell_type": "markdown",
   "metadata": {},
   "source": [
    "# Assignment_10\n",
    "\n",
    "###### Q-19. Write an SQL query to determine the 5th highest salary without using TOP or limit method.\n",
    "\n",
    "    SELECT EmpID, FirstName, salary FROM workers w WHERE 6-1 = (SELECT COUNT(DISTINCT salary) FROM workers w2 WHERE w2.salary >= w.salary)\n",
    "\n",
    "<img src=\"img/101.jpg\" width=\"700\"/>\n",
    "\n",
    "###### Q-20. Write an SQL query to fetch the list of employees with the same salary.\n",
    "\n",
    "    select distinct w.FirstName,w.EmailID, w.salary from workers w, workers w1 where w.salary = w1.salary and w.FirstName != w1.FirstName;\n",
    "\n",
    "<img src=\"img/102.jpg\" width=\"700\"/>"
   ]
  },
  {
   "cell_type": "code",
   "execution_count": null,
   "metadata": {},
   "outputs": [],
   "source": []
  }
 ],
 "metadata": {
  "kernelspec": {
   "display_name": "Python 3",
   "language": "python",
   "name": "python3"
  },
  "language_info": {
   "codemirror_mode": {
    "name": "ipython",
    "version": 3
   },
   "file_extension": ".py",
   "mimetype": "text/x-python",
   "name": "python",
   "nbconvert_exporter": "python",
   "pygments_lexer": "ipython3",
   "version": "3.7.0"
  }
 },
 "nbformat": 4,
 "nbformat_minor": 4
}
