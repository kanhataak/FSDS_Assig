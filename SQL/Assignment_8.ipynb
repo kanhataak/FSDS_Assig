{
 "cells": [
  {
   "cell_type": "markdown",
   "metadata": {},
   "source": [
    "# Assignment_8\n",
    "###### Q-15. Write an SQL query to fetch intersecting records of two tables.\n",
    "\n",
    "    Considering the following two table\n",
    "##### workers is as follows\n",
    "\n",
    "<img src=\"img/firsttable.jpg\" width=\"700\"/>\n",
    "\n",
    "##### details is as follows\n",
    "\n",
    "<img src=\"img/2ndtable.jpg\" width=\"700\"/>\n",
    "\n",
    "Now, let us join these two tables in our SELECT statement as follows.\n",
    "\n",
    "    SELECT w.EmpID, d.EmpID, w.FirstName,w.EmailID, d.address, d.age FROM workers w\n",
    "      JOIN details d ON w.EmpID = d.EmpID \n",
    "      \n",
    "This would produce the following result.\n",
    "\n",
    "<img src=\"img/82.jpg\" width=\"700\"/>\n",
    "\n",
    "\n",
    "\n",
    "###### Q-16. Write an SQL query to show records from one table that another table does not have.\n",
    "\n",
    "For this query we have same table which was we have above\n",
    "    \n",
    "        SELECT * FROM workers WHERE NOT EXISTS (SELECT * FROM details WHERE workers.EmpID = details.EmpID)\n",
    "        \n",
    "   <img src=\"img/82a.jpg\" width=\"700\"/>"
   ]
  },
  {
   "cell_type": "code",
   "execution_count": null,
   "metadata": {},
   "outputs": [],
   "source": []
  }
 ],
 "metadata": {
  "kernelspec": {
   "display_name": "Python 3",
   "language": "python",
   "name": "python3"
  },
  "language_info": {
   "codemirror_mode": {
    "name": "ipython",
    "version": 3
   },
   "file_extension": ".py",
   "mimetype": "text/x-python",
   "name": "python",
   "nbconvert_exporter": "python",
   "pygments_lexer": "ipython3",
   "version": "3.7.0"
  }
 },
 "nbformat": 4,
 "nbformat_minor": 4
}
