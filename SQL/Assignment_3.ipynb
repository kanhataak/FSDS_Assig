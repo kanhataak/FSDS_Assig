{
 "cells": [
  {
   "cell_type": "markdown",
   "metadata": {},
   "source": [
    "# Assignment_3\n",
    "\n",
    "#### Q-1. Write an SQL query to print the FIRST_NAME from Worker table after removing white spaces from the right side.\n",
    "\n",
    "            SELECT RTRIM(FirstName) FROM worker\n",
    "<img src=\"img/a31.jpg\" width=\"700\"/>\n",
    "\n",
    "#### Q-2. Write an SQL query that fetches the unique values of DEPARTMENT from Worker table and prints its length.\n",
    "\n",
    "        SELECT DISTINCT Department, LENGTH(Department) AS DPLength FROM worker\n",
    " <img src=\"img/a32.jpg\" width=\"700\"/>\n",
    "\n",
    "#### Q-3. Write an SQL query to fetch nth max salaries from a table.\n",
    "\n",
    "    SELECT MAX(salary) FROM worker\n",
    " <img src=\"img/a33.jpg\" width=\"700\"/>  "
   ]
  },
  {
   "cell_type": "code",
   "execution_count": null,
   "metadata": {},
   "outputs": [],
   "source": []
  }
 ],
 "metadata": {
  "kernelspec": {
   "display_name": "Python 3",
   "language": "python",
   "name": "python3"
  },
  "language_info": {
   "codemirror_mode": {
    "name": "ipython",
    "version": 3
   },
   "file_extension": ".py",
   "mimetype": "text/x-python",
   "name": "python",
   "nbconvert_exporter": "python",
   "pygments_lexer": "ipython3",
   "version": "3.7.0"
  }
 },
 "nbformat": 4,
 "nbformat_minor": 4
}
