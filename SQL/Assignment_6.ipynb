{
 "cells": [
  {
   "cell_type": "markdown",
   "metadata": {},
   "source": [
    "# Assingnment_6\n",
    "\n",
    "###### Q-1. Write an SQL query to print details of the Workers who have joined in Feb’2014.\n",
    "\n",
    "\n",
    "    SELECT * FORM workers WHERE YEAR(joining) = 2014 AND MONTH(joining)=02\n",
    "\n",
    "\n",
    "<img src=\"img/61.jpg\" width=\"700\"/>\n",
    "\n",
    "###### Q-2. Write an SQL query to fetch duplicate records having matching data in some fields of a table.\n",
    "\n",
    "\n",
    "<img src=\"img/duplicate.jpg\" width=\"700\"/>\n",
    "\n",
    "    SELECT FirstName, EmailID, COUNT(*) FROM worker GROUP BY FirstName, EmailID, HAVING COUNT(*) > 1\n",
    "\n",
    "<img src=\"img/62.jpg\" width=\"700\"/>\n",
    "\n",
    "###### Q-3. How to remove duplicate rows from Employees table.\n",
    "\n",
    "workers table with duplicate record...\n",
    "    \n",
    "   <img src=\"img/dupre.jpg\" width=\"700\"/>\n",
    "\n",
    "    select *, count(*) as duplicatecount from workers group by FirstName,EmailID;\n",
    "\n",
    "<img src=\"img/63.jpg\" width=\"700\"/>\n",
    "\n",
    "we can see table has record where FirstName and EmailID was two time was repeted after execute the query its Deleted..."
   ]
  },
  {
   "cell_type": "code",
   "execution_count": null,
   "metadata": {},
   "outputs": [],
   "source": []
  }
 ],
 "metadata": {
  "kernelspec": {
   "display_name": "Python 3",
   "language": "python",
   "name": "python3"
  },
  "language_info": {
   "codemirror_mode": {
    "name": "ipython",
    "version": 3
   },
   "file_extension": ".py",
   "mimetype": "text/x-python",
   "name": "python",
   "nbconvert_exporter": "python",
   "pygments_lexer": "ipython3",
   "version": "3.7.0"
  }
 },
 "nbformat": 4,
 "nbformat_minor": 4
}
