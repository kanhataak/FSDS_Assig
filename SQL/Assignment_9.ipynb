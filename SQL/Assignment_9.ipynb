{
 "cells": [
  {
   "cell_type": "markdown",
   "metadata": {},
   "source": [
    "# Assignment_9\n",
    "\n",
    "######  Q-17. Write an SQL query to show the top n (say 10) records of a table.\n",
    "\n",
    "    select * from workers order by salary desc limit 10;\n",
    "\n",
    "<img src=\"img/91.jpg\" width=\"700\"/>\n",
    "\n",
    "###### Q-18. Write an SQL query to determine the nth (say n=5) highest salary from a table.\n",
    "\n",
    "    select * from workers order by salary desc limit 5,1;\n",
    "\n",
    "<img src=\"img/92.jpg\" width=\"700\"/>"
   ]
  },
  {
   "cell_type": "code",
   "execution_count": null,
   "metadata": {},
   "outputs": [],
   "source": []
  }
 ],
 "metadata": {
  "kernelspec": {
   "display_name": "Python 3",
   "language": "python",
   "name": "python3"
  },
  "language_info": {
   "codemirror_mode": {
    "name": "ipython",
    "version": 3
   },
   "file_extension": ".py",
   "mimetype": "text/x-python",
   "name": "python",
   "nbconvert_exporter": "python",
   "pygments_lexer": "ipython3",
   "version": "3.7.0"
  }
 },
 "nbformat": 4,
 "nbformat_minor": 4
}
