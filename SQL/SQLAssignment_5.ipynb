{
 "cells": [
  {
   "cell_type": "markdown",
   "metadata": {},
   "source": [
    "# Assignment_5\n",
    "##### Q-1. Write an SQL query to print details of workers excluding first names, “Vipul” and “Satish” from Worker table.\n",
    "\n",
    "<img src=\"img/51.jpg\" width=\"700\"/>\n",
    "\n",
    "##### Q-2. Write an SQL query to print details of the Workers whose FIRST_NAME ends with ‘h’ and contains six alphabets.\n",
    "\n",
    "        SELECT * FROM worker WHERE FirstName LIKE '______h%'\n",
    " <img src=\"img/a52.jpg\" width=\"700\"/>\n",
    "\n",
    "##### Q-3. Write a query to validate Email of Employee.\n",
    "    we have insert invalid email to check validaiton Quary\n",
    "    \n",
    "    insert into worker values('Predeep', 'Kumar', 'Sales','30000','dsfsdfsdfgmail.com','222')\")\n",
    "    \n",
    "<img src=\"img/invalidemail.jpg\" width=\"700\"/>\n",
    "\n",
    "        SELECT * FROM worker WHERE EmailID LIKE '%@%.___%'\n",
    "        \n",
    "<img src=\"img/53.jpg\" width=\"700\"/>"
   ]
  },
  {
   "cell_type": "code",
   "execution_count": null,
   "metadata": {},
   "outputs": [],
   "source": []
  }
 ],
 "metadata": {
  "kernelspec": {
   "display_name": "Python 3",
   "language": "python",
   "name": "python3"
  },
  "language_info": {
   "codemirror_mode": {
    "name": "ipython",
    "version": 3
   },
   "file_extension": ".py",
   "mimetype": "text/x-python",
   "name": "python",
   "nbconvert_exporter": "python",
   "pygments_lexer": "ipython3",
   "version": "3.7.0"
  }
 },
 "nbformat": 4,
 "nbformat_minor": 4
}
