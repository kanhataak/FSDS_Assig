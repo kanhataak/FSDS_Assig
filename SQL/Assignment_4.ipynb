{
 "cells": [
  {
   "cell_type": "markdown",
   "metadata": {},
   "source": [
    "# Assignment_4\n",
    "\n",
    "##### Q-1. Write an SQL query to print the FIRST_NAME from Worker table after replacing ‘a’ with ‘A’.\n",
    "\n",
    "        SELECT REPLACE(FirstName,\"a\",\"A\") AS NewName FROM worker\n",
    " <img src=\"img/a41.jpg\" width=\"700\"/>\n",
    "\n",
    "##### Q-2. Write an SQL query to print all Worker details from the Worker table order by FIRST_NAME Ascending and DEPARTMENT Descending.\n",
    "\n",
    "    SELECT * FROM worker ORDER BY(FirstName) ASC, Department DESC \n",
    "  <img src=\"img/a42.jpg\" width=\"700\"/>\n",
    "\n",
    "##### Q-3. Write an SQL query to fetch the names of workers who earn the highest salary.\n",
    "  \n",
    "      SELECT FirstName, salary FROM worker WHERE salary = (SELECT MAX(salary),FORM worker)\n",
    "\n",
    " <img src=\"img/a43.jpg\" width=\"700\"/>"
   ]
  },
  {
   "cell_type": "code",
   "execution_count": null,
   "metadata": {},
   "outputs": [],
   "source": []
  }
 ],
 "metadata": {
  "kernelspec": {
   "display_name": "Python 3",
   "language": "python",
   "name": "python3"
  },
  "language_info": {
   "codemirror_mode": {
    "name": "ipython",
    "version": 3
   },
   "file_extension": ".py",
   "mimetype": "text/x-python",
   "name": "python",
   "nbconvert_exporter": "python",
   "pygments_lexer": "ipython3",
   "version": "3.7.0"
  }
 },
 "nbformat": 4,
 "nbformat_minor": 4
}
