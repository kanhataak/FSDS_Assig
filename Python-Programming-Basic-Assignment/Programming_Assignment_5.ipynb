{
 "cells": [
  {
   "cell_type": "markdown",
   "metadata": {},
   "source": [
    "# Programming_Assignment_5 "
   ]
  },
  {
   "cell_type": "code",
   "execution_count": 1,
   "metadata": {},
   "outputs": [
    {
     "name": "stdout",
     "output_type": "stream",
     "text": [
      "Enter 1st number: 20\n",
      "Enter 2nd number: 45\n",
      "The LCM of 20 and 45 is 180\n"
     ]
    }
   ],
   "source": [
    "# 1.Write a Python Program to Find LCM?\n",
    "\n",
    "x = int(input(\"Enter 1st number: \"))\n",
    "y = int(input(\"Enter 2nd number: \"))\n",
    "\n",
    "# lets find biggest number\n",
    "if x > y:\n",
    "    bigger = x\n",
    "else:\n",
    "    bigger = y\n",
    "    \n",
    "while(True):\n",
    "    if bigger % x == 0 and bigger % y == 0 :\n",
    "        lcm = bigger\n",
    "        break\n",
    "    bigger+=1\n",
    "    \n",
    "print(f\"The LCM of {x} and {y} is {lcm}\")"
   ]
  },
  {
   "cell_type": "code",
   "execution_count": 5,
   "metadata": {},
   "outputs": [
    {
     "name": "stdout",
     "output_type": "stream",
     "text": [
      "Enter 1st number: 21\n",
      "Enter 2nd number: 17\n",
      "The HCF of 21 and 17 is 1\n"
     ]
    }
   ],
   "source": [
    "# 2.Write a Python Program to Find HCF?\n",
    "\n",
    "x = int(input(\"Enter 1st number: \"))\n",
    "y = int(input(\"Enter 2nd number: \"))\n",
    "\n",
    "# lets find biggest number\n",
    "if x < y:\n",
    "    smaller = x\n",
    "else:\n",
    "    smaller = y\n",
    "    \n",
    "hcf = 0   \n",
    "for i in range(1,smaller+1):\n",
    "    if x % i == 0 and y % i == 0 :\n",
    "        hcf = i\n",
    "    \n",
    "print(f\"The HCF of {x} and {y} is {hcf}\")"
   ]
  },
  {
   "cell_type": "code",
   "execution_count": 6,
   "metadata": {},
   "outputs": [
    {
     "name": "stdout",
     "output_type": "stream",
     "text": [
      "Enter number: 15\n",
      "15 in binary :  0b1111\n",
      "15 in Octal :  0o17\n",
      "15 in Hexadecimal :  0xf\n"
     ]
    }
   ],
   "source": [
    "# 3.Write a Python Program to Convert Decimal to Binary, Octal and Hexadecimal?\n",
    "\n",
    "num=int(input(\"Enter number: \"))\n",
    "\n",
    "print(num, \"in binary : \", bin(num))\n",
    "print(num, \"in Octal : \", oct(num))\n",
    "print(num, \"in Hexadecimal : \",hex(num))"
   ]
  },
  {
   "cell_type": "code",
   "execution_count": 10,
   "metadata": {},
   "outputs": [
    {
     "name": "stdout",
     "output_type": "stream",
     "text": [
      "Enter a Charecter : d\n",
      "Ascii value of d is 100\n"
     ]
    }
   ],
   "source": [
    "# 4.Write a Python Program To Find ASCII value of a character?\n",
    "\n",
    "\n",
    "char = input(\"Enter a Charecter : \")\n",
    "# ord gives the ASCII value of a character\n",
    "print(f\"Ascii value of {char} is {ord(char)}\")"
   ]
  },
  {
   "cell_type": "code",
   "execution_count": 4,
   "metadata": {},
   "outputs": [
    {
     "name": "stdout",
     "output_type": "stream",
     "text": [
      "Enter First Number:20\n",
      "Enter Second Number:5\n",
      "25\n",
      "15\n",
      "4\n",
      "100\n"
     ]
    }
   ],
   "source": [
    "# 5.Write a Python Program to Make a Simple Calculator with 4 basic mathematical operations?\n",
    "# for this some of advance things...\n",
    "\n",
    "class Calculator:\n",
    "    def __init__(self,num1, num2):\n",
    "        self.num1=num1\n",
    "        self.num2=num2\n",
    "        \n",
    "    def add(self):\n",
    "        try:\n",
    "            return self.num1 + self.num2\n",
    "        except Exception as e:\n",
    "            print(\"ERROR: \",e)\n",
    "    def sub(self):\n",
    "        try:\n",
    "            return self.num1 - self.num2\n",
    "        except Exception as e:\n",
    "            print(\"ERROR: \",e)\n",
    "    def div(self):\n",
    "        try:\n",
    "            return self.num1 // self.num2\n",
    "        except Exception as e:\n",
    "            print(\"ERROR: \",e)\n",
    "    def mul(self):\n",
    "        try:\n",
    "            return self.num1 * self.num2\n",
    "        except Exception as e:\n",
    "            print(\"ERROR: \",e)\n",
    "    def __str__(self):\n",
    "        return \"Calculator class\"\n",
    "try:\n",
    "    num1 = int(input(\"Enter First Number:\"))\n",
    "    num2 = int(input(\"Enter Second Number:\"))\n",
    "    obj = Calculator(num1,num2)\n",
    "    print(obj.add())\n",
    "    print(obj.sub())\n",
    "    print(obj.div())\n",
    "    print(obj.mul())\n",
    "except Exception as e:\n",
    "    print(e)"
   ]
  },
  {
   "cell_type": "code",
   "execution_count": null,
   "metadata": {},
   "outputs": [],
   "source": []
  }
 ],
 "metadata": {
  "kernelspec": {
   "display_name": "Python 3",
   "language": "python",
   "name": "python3"
  },
  "language_info": {
   "codemirror_mode": {
    "name": "ipython",
    "version": 3
   },
   "file_extension": ".py",
   "mimetype": "text/x-python",
   "name": "python",
   "nbconvert_exporter": "python",
   "pygments_lexer": "ipython3",
   "version": "3.7.0"
  }
 },
 "nbformat": 4,
 "nbformat_minor": 4
}
