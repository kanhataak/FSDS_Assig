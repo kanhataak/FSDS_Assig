{
 "cells": [
  {
   "cell_type": "code",
   "execution_count": 1,
   "metadata": {},
   "outputs": [
    {
     "name": "stdout",
     "output_type": "stream",
     "text": [
      "first matrice[[1 1]\n",
      " [2 2]\n",
      " [1 2]\n",
      " [1 2]]\n",
      " Second matrice [[2 1]\n",
      " [2 2]\n",
      " [1 2]\n",
      " [1 2]]\n",
      "Add two Marrices:\n",
      " [[3 2]\n",
      " [4 4]\n",
      " [2 4]\n",
      " [2 4]]\n"
     ]
    }
   ],
   "source": [
    "# 1.Write a Python Program to Add Two Matrices?\n",
    "\n",
    "import numpy as np\n",
    "\n",
    "arr1 = np.random.randint(1,3,(4,2))\n",
    "arr2 = np.random.randint(1,3,(4,2))\n",
    "print(f'first matrice{arr1}\\n Second matrice {arr2}')\n",
    "print('Add two Marrices:\\n',arr1+arr2)"
   ]
  },
  {
   "cell_type": "code",
   "execution_count": 2,
   "metadata": {},
   "outputs": [
    {
     "name": "stdout",
     "output_type": "stream",
     "text": [
      "first matrice[[3 1 3 1]\n",
      " [2 3 3 3]\n",
      " [3 2 1 1]\n",
      " [3 2 1 1]]\n",
      " Second matrice [[3 3 2 3]\n",
      " [3 3 3 2]\n",
      " [1 1 3 3]\n",
      " [3 2 1 2]]\n",
      "Add two Marrices:\n",
      " [[18 17 19 22]\n",
      " [27 24 25 27]\n",
      " [19 18 16 18]\n",
      " [19 18 16 18]]\n"
     ]
    }
   ],
   "source": [
    "# 2.Write a Python Program to Multiply Two Matrices?\n",
    "\n",
    "\n",
    "import numpy as np\n",
    "\n",
    "arr1 = np.random.randint(1,4,(4,4))\n",
    "arr2 = np.random.randint(1,4,(4,4))\n",
    "print(f'first matrice{arr1}\\n Second matrice {arr2}')\n",
    "print('Add two Marrices:\\n',arr1@arr2)"
   ]
  },
  {
   "cell_type": "code",
   "execution_count": 3,
   "metadata": {},
   "outputs": [
    {
     "name": "stdout",
     "output_type": "stream",
     "text": [
      "[[1 2 3]\n",
      " [4 5 6]]\n"
     ]
    },
    {
     "data": {
      "text/plain": [
       "array([[1, 4],\n",
       "       [2, 5],\n",
       "       [3, 6]])"
      ]
     },
     "execution_count": 3,
     "metadata": {},
     "output_type": "execute_result"
    }
   ],
   "source": [
    "# 3.Write a Python Program to Transpose a Matrix?\n",
    "\n",
    "import numpy as np\n",
    "\n",
    "matrix =  np.array([[1,2,3],[4,5,6]])\n",
    "print(matrix)\n",
    "matrix.T"
   ]
  },
  {
   "cell_type": "code",
   "execution_count": 4,
   "metadata": {},
   "outputs": [
    {
     "data": {
      "text/plain": [
       "['Delhi', 'Gurugon', 'Jaipur', 'Kota', 'Noida', 'a', 'c', 'f']"
      ]
     },
     "execution_count": 4,
     "metadata": {},
     "output_type": "execute_result"
    }
   ],
   "source": [
    "# 4. Write a Python Program to Sort Words in Alphabetic Order?\n",
    "\n",
    "lst = ['Delhi','Gurugon','Noida','Jaipur','Kota','c','a','f']\n",
    "order_Alpha = sorted(lst)\n",
    "order_Alpha"
   ]
  },
  {
   "cell_type": "code",
   "execution_count": 5,
   "metadata": {},
   "outputs": [
    {
     "name": "stdout",
     "output_type": "stream",
     "text": [
      "I have to go somewhere\n"
     ]
    }
   ],
   "source": [
    "# 5.Write a Python Program to Remove Punctuation From a String?\n",
    "import string as st\n",
    "def remove(txt):\n",
    "    for pun in st.punctuation:\n",
    "        txt = txt.replace(pun,'')\n",
    "    print(txt)\n",
    "        \n",
    "txt = \"I have to go# somewhere$%\"\n",
    "remove(txt)"
   ]
  },
  {
   "cell_type": "code",
   "execution_count": null,
   "metadata": {},
   "outputs": [],
   "source": []
  }
 ],
 "metadata": {
  "kernelspec": {
   "display_name": "Python 3",
   "language": "python",
   "name": "python3"
  },
  "language_info": {
   "codemirror_mode": {
    "name": "ipython",
    "version": 3
   },
   "file_extension": ".py",
   "mimetype": "text/x-python",
   "name": "python",
   "nbconvert_exporter": "python",
   "pygments_lexer": "ipython3",
   "version": "3.7.0"
  }
 },
 "nbformat": 4,
 "nbformat_minor": 4
}
