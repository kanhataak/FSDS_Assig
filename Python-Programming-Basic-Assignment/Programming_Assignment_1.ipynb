{
 "cells": [
  {
   "cell_type": "markdown",
   "metadata": {},
   "source": [
    "# Programming-Assignment_1\n"
   ]
  },
  {
   "cell_type": "code",
   "execution_count": 1,
   "metadata": {},
   "outputs": [
    {
     "name": "stdout",
     "output_type": "stream",
     "text": [
      "Writh Hello PythonHello Python\n",
      "Hello Python\n"
     ]
    }
   ],
   "source": [
    "#  Q. 1. Write a Python program to print \"Hello Python\"?\n",
    "\n",
    "x = str(input('Writh Hello Python'))\n",
    "if x== 'Hello Python' or x == 'hello python':\n",
    "    print(x)\n",
    "else:\n",
    "    print('Please writh given string...')"
   ]
  },
  {
   "cell_type": "code",
   "execution_count": 2,
   "metadata": {},
   "outputs": [
    {
     "name": "stdout",
     "output_type": "stream",
     "text": [
      "Enter 1st number: 5\n",
      "Enter your Operation: *\n",
      "Enter 2nd number: 4\n"
     ]
    },
    {
     "data": {
      "text/plain": [
       "20"
      ]
     },
     "execution_count": 2,
     "metadata": {},
     "output_type": "execute_result"
    }
   ],
   "source": [
    "# Q.2 Write a Python program to do arithmetical operations addition and division.?\n",
    "\n",
    "a = int(input('Enter 1st number: '))\n",
    "c = input(\"Enter your Operation: \")\n",
    "b = int(input('Enter 2nd number: '))\n",
    "\n",
    "def ao(a,b):\n",
    "    if c == '+':\n",
    "        return a+b\n",
    "    elif c == '*':\n",
    "        return a*b\n",
    "        \n",
    "ao(a,b)"
   ]
  },
  {
   "cell_type": "code",
   "execution_count": 3,
   "metadata": {},
   "outputs": [
    {
     "name": "stdout",
     "output_type": "stream",
     "text": [
      "Enter Base(in cm) of Triangle :10\n",
      "Enter Height(in cm) of Triangle :12\n",
      "Area_of_Triangle : 60.0\n"
     ]
    }
   ],
   "source": [
    "# 3. Write a Python program to find the area of a triangle?\n",
    "base = int(input(\"Enter Base(in cm) of Triangle :\"))\n",
    "height = int(input(\"Enter Height(in cm) of Triangle :\"))\n",
    "\n",
    "area = 1/2 * base * height\n",
    "\n",
    "print(\"Area_of_Triangle :\",area)"
   ]
  },
  {
   "cell_type": "code",
   "execution_count": 4,
   "metadata": {},
   "outputs": [
    {
     "name": "stdout",
     "output_type": "stream",
     "text": [
      "a: 20 b: 30 c: 20\n"
     ]
    }
   ],
   "source": [
    "#Q. 4. Write a Python program to swap two variables?\n",
    "\n",
    "a =10\n",
    "b =20\n",
    "c =30\n",
    "\n",
    "a = b\n",
    "b = c\n",
    "c = a\n",
    "\n",
    "print('a:',a,'b:',b,'c:',c)"
   ]
  },
  {
   "cell_type": "code",
   "execution_count": 5,
   "metadata": {},
   "outputs": [
    {
     "name": "stdout",
     "output_type": "stream",
     "text": [
      "Enter a number:10\n",
      "8\n",
      "14\n",
      "4\n",
      "18\n",
      "7\n",
      "11\n",
      "4\n",
      "10\n",
      "0\n",
      "9\n"
     ]
    }
   ],
   "source": [
    "# Q 5. Write a Python program to generate a random number?\n",
    "import random\n",
    "a = int(input('Enter a number:'))\n",
    "def fun(a):\n",
    "    for i in range(a):\n",
    "        y = random.randrange(20)\n",
    "        print(y)\n",
    "fun(a)"
   ]
  },
  {
   "cell_type": "code",
   "execution_count": null,
   "metadata": {},
   "outputs": [],
   "source": []
  }
 ],
 "metadata": {
  "kernelspec": {
   "display_name": "Python 3",
   "language": "python",
   "name": "python3"
  },
  "language_info": {
   "codemirror_mode": {
    "name": "ipython",
    "version": 3
   },
   "file_extension": ".py",
   "mimetype": "text/x-python",
   "name": "python",
   "nbconvert_exporter": "python",
   "pygments_lexer": "ipython3",
   "version": "3.7.0"
  }
 },
 "nbformat": 4,
 "nbformat_minor": 2
}
