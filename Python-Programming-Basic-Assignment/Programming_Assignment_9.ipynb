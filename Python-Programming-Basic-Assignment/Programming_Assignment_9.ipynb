{
 "cells": [
  {
   "cell_type": "markdown",
   "metadata": {},
   "source": [
    "# Programming_Assignment_9\n"
   ]
  },
  {
   "cell_type": "code",
   "execution_count": 18,
   "metadata": {},
   "outputs": [],
   "source": [
    "# 1.Write a Python program to check if the given number is a Disarium Number?\n",
    "\n",
    "def disarium(a):\n",
    "    temp = a\n",
    "    l = len(str(temp))\n",
    "    sum = 0\n",
    "    while temp!=0:\n",
    "        rem = temp%10\n",
    "        sum = sum + rem**l\n",
    "        l = l-1\n",
    "        temp = temp//10\n",
    "    if sum==a:\n",
    "        print(\"Its a Disarium Number\")\n",
    "    else:\n",
    "        print(\"Not disarium Number\")"
   ]
  },
  {
   "cell_type": "code",
   "execution_count": 19,
   "metadata": {},
   "outputs": [
    {
     "name": "stdout",
     "output_type": "stream",
     "text": [
      "Its a Disarium Number\n"
     ]
    }
   ],
   "source": [
    "disarium(175)"
   ]
  },
  {
   "cell_type": "code",
   "execution_count": 24,
   "metadata": {},
   "outputs": [
    {
     "name": "stdout",
     "output_type": "stream",
     "text": [
      "Disarium number list\n",
      "1\n",
      "2\n",
      "3\n",
      "4\n",
      "5\n",
      "6\n",
      "7\n",
      "8\n",
      "9\n",
      "89\n"
     ]
    }
   ],
   "source": [
    "# 2.Write a Python program to print all disarium numbers between 1 to 100?\n",
    "\n",
    "print('Disarium number list')\n",
    "for num in range(1,100+1):\n",
    "    count = 0\n",
    "    temp=num\n",
    "    while(temp>0):\n",
    "        rem = temp%10\n",
    "        count=count+1\n",
    "        temp//=10  \n",
    "    length =  count\n",
    "    res = 0\n",
    "    power=length\n",
    "    temp1=num\n",
    "    \n",
    "    for i in range(1,length+1):\n",
    "        rem = temp1%10\n",
    "        res+=(rem**power)\n",
    "        power-=1\n",
    "        temp1//=10\n",
    "    if(res == num):\n",
    "        print(num)"
   ]
  },
  {
   "cell_type": "code",
   "execution_count": 28,
   "metadata": {},
   "outputs": [
    {
     "name": "stdout",
     "output_type": "stream",
     "text": [
      "Enter the number :78\n",
      "78 NOt happy Number\n"
     ]
    }
   ],
   "source": [
    "# 3.Write a Python program to check if the given number is Happy Number?\n",
    "    \n",
    "    \n",
    "def Happy_Num(num):\n",
    "    sum = 0\n",
    "    while(num>0):\n",
    "        digit = num%10\n",
    "        sum= sum + digit**2        \n",
    "        num = num//10\n",
    "    return sum\n",
    "\n",
    "num = int(input(\"Enter the number :\"))\n",
    "result = num\n",
    "\n",
    "\n",
    "while (result != 1 and result != 4):\n",
    "    result = Happy_Num(result)\n",
    "\n",
    "if result == 1:\n",
    "    print(num,\"Happy Number\")\n",
    "else:\n",
    "    print(num,\"NOt happy Number\")"
   ]
  },
  {
   "cell_type": "code",
   "execution_count": 30,
   "metadata": {},
   "outputs": [
    {
     "name": "stdout",
     "output_type": "stream",
     "text": [
      "1\n",
      "7\n",
      "10\n",
      "13\n",
      "19\n",
      "23\n",
      "28\n",
      "31\n",
      "32\n",
      "44\n",
      "49\n",
      "68\n",
      "70\n",
      "79\n",
      "82\n",
      "86\n",
      "91\n",
      "94\n",
      "97\n",
      "100\n"
     ]
    }
   ],
   "source": [
    "# 4.Write a Python program to print all happy numbers between 1 and 100?\n",
    "\n",
    "\n",
    "def Happy_Num_list(num):\n",
    "    rem = my_sum = 0\n",
    "    while(num > 0):\n",
    "        rem = num%10\n",
    "        my_sum = my_sum + (rem*rem)\n",
    "        num//=10\n",
    "    return my_sum\n",
    "\n",
    "for i in range(1,100+1):\n",
    "    result = i\n",
    "    while(result != 1 and result != 4):    \n",
    "        result = Happy_Num_list(result)\n",
    "    if(result == 1):\n",
    "        print(i)"
   ]
  },
  {
   "cell_type": "code",
   "execution_count": 34,
   "metadata": {},
   "outputs": [
    {
     "name": "stdout",
     "output_type": "stream",
     "text": [
      "Enter the number: 45\n",
      "Harshad Number\n"
     ]
    }
   ],
   "source": [
    "# 5.Write a Python program to determine whether the given number is a Harshad Number?\n",
    "\n",
    "\n",
    "def Harshad_Num(num):\n",
    "    rem = my_sum = 0\n",
    "    temp = num\n",
    "    while(temp>0):\n",
    "        rem =temp%10\n",
    "        my_sum+=rem\n",
    "        temp//=10\n",
    "    if(num%my_sum==0):\n",
    "        print(\"Harshad Number\")\n",
    "    else:\n",
    "        print(\"Not a Harshad Number\")\n",
    "\n",
    "    \n",
    "num=int(input(\"Enter the number: \"))\n",
    "Harshad_Num(num)"
   ]
  },
  {
   "cell_type": "code",
   "execution_count": null,
   "metadata": {},
   "outputs": [],
   "source": []
  }
 ],
 "metadata": {
  "kernelspec": {
   "display_name": "Python 3",
   "language": "python",
   "name": "python3"
  },
  "language_info": {
   "codemirror_mode": {
    "name": "ipython",
    "version": 3
   },
   "file_extension": ".py",
   "mimetype": "text/x-python",
   "name": "python",
   "nbconvert_exporter": "python",
   "pygments_lexer": "ipython3",
   "version": "3.7.0"
  }
 },
 "nbformat": 4,
 "nbformat_minor": 4
}
