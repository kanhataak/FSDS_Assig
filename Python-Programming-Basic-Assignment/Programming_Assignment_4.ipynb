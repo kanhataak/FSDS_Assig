{
 "cells": [
  {
   "cell_type": "markdown",
   "metadata": {},
   "source": [
    "# Programming_Assignment_4"
   ]
  },
  {
   "cell_type": "code",
   "execution_count": 16,
   "metadata": {},
   "outputs": [
    {
     "name": "stdout",
     "output_type": "stream",
     "text": [
      "Enter a number: 6\n",
      "Factorial of 6 is : 720\n"
     ]
    }
   ],
   "source": [
    "# 1. Write a Python Program to Find the Factorial of a Number?\n",
    "\n",
    "num = int(input(\"Enter a number: \"))\n",
    "\n",
    "def fact():\n",
    "    x =1\n",
    "    for i in range(1, num+1):\n",
    "        x =x*i\n",
    "    print(f\"Factorial of {num} is :\", x)\n",
    "\n",
    "fact()"
   ]
  },
  {
   "cell_type": "code",
   "execution_count": 21,
   "metadata": {},
   "outputs": [
    {
     "name": "stdout",
     "output_type": "stream",
     "text": [
      "Enter a number: 6\n",
      "Factorial of 6 is : 720\n"
     ]
    }
   ],
   "source": [
    "num = int(input(\"Enter a number: \"))\n",
    "\n",
    "def fact():\n",
    "    \n",
    "    if num ==0:\n",
    "        print(\"Fact 0 is 1\")\n",
    "        \n",
    "    elif num <0:\n",
    "        print(\"Enter valid number\")\n",
    "        \n",
    "    else:\n",
    "        x =1\n",
    "        for i in range(1, num+1):\n",
    "            x =x*i\n",
    "        print(f\"Factorial of {num} is :\", x)\n",
    "\n",
    "fact()"
   ]
  },
  {
   "cell_type": "code",
   "execution_count": 24,
   "metadata": {},
   "outputs": [
    {
     "name": "stdout",
     "output_type": "stream",
     "text": [
      "Enter a number: 4\n",
      "4 * 1 = 4\n",
      "4 * 2 = 8\n",
      "4 * 3 = 12\n",
      "4 * 4 = 16\n",
      "4 * 5 = 20\n",
      "4 * 6 = 24\n",
      "4 * 7 = 28\n",
      "4 * 8 = 32\n",
      "4 * 9 = 36\n",
      "4 * 10 = 40\n"
     ]
    }
   ],
   "source": [
    "# 2. Write a Python Program to Display the multiplication Table?\n",
    "\n",
    "n = int(input(\"Enter a number: \"))\n",
    "\n",
    "def mul():\n",
    "    if n <=0:\n",
    "        print(\"Enter a valid number\")\n",
    "    else:\n",
    "        a = 1\n",
    "        while a <=10:\n",
    "            print(f\"{n} * {a} = {n*a}\")\n",
    "            a+=1\n",
    "            \n",
    "mul()"
   ]
  },
  {
   "cell_type": "code",
   "execution_count": 4,
   "metadata": {},
   "outputs": [
    {
     "name": "stdout",
     "output_type": "stream",
     "text": [
      "0, 1, 1, 2, 3, 5, 8, 13, 21, 34, 55, 89, 144, 233, 377, 610, 987, 1597, 2584, 4181, 6765, "
     ]
    }
   ],
   "source": [
    "# 3.Write a Python Program to Print the Fibonacci sequence?\n",
    "\n",
    "def fib(x):\n",
    "    counter,first,second,temp = 0, 0, 1 ,0\n",
    "    \n",
    "    while counter<=x:\n",
    "        print(first,end=\", \")\n",
    "        temp = first + second\n",
    "        first = second\n",
    "        second = temp\n",
    "        counter = counter + 1\n",
    "\n",
    "# Driver Code\n",
    "fib(20)"
   ]
  },
  {
   "cell_type": "code",
   "execution_count": 2,
   "metadata": {},
   "outputs": [
    {
     "name": "stdout",
     "output_type": "stream",
     "text": [
      "Enter a number--> 1634\n",
      "1634 is an armstrong number\n"
     ]
    }
   ],
   "source": [
    "# 4.Write a Python Program to Check Armstrong Number?\n",
    "\n",
    "# A number is called Armstrong number if it is equal to the sum of the cubes of its own digits\n",
    "\n",
    "n = int(input(\"Enter a number--> \"))\n",
    "pw = len(str(n))\n",
    "sum1 = 0\n",
    "\n",
    "tmp = n\n",
    "while tmp>0:\n",
    "    digit =tmp % 10\n",
    "    sum1+=digit**pw\n",
    "    tmp //= 10\n",
    "if n == sum1:\n",
    "    print(n,\"is an armstrong number\")\n",
    "else:\n",
    "    print(n,\"isn't an armstrong number\")"
   ]
  },
  {
   "cell_type": "code",
   "execution_count": 3,
   "metadata": {},
   "outputs": [
    {
     "name": "stdout",
     "output_type": "stream",
     "text": [
      "Lowest limit : 250\n",
      "Highest limit : 1250\n",
      "370\n",
      "371\n",
      "407\n"
     ]
    }
   ],
   "source": [
    "# 5.Write a Python Program to Find Armstrong Number in an Interval?\n",
    "\n",
    "## fining for a range of numbers\n",
    "lo = int(input(\"Lowest limit : \"))\n",
    "hi = int(input(\"Highest limit : \"))\n",
    "\n",
    "\n",
    "for num in range(lo,hi+1):\n",
    "    power = len(str(num))\n",
    "    temp = num\n",
    "    sum1 = 0\n",
    "    while temp > 0:\n",
    "        digit = temp % 10\n",
    "        sum1 +=digit ** power\n",
    "        temp = temp//10\n",
    "    if num == sum1 :\n",
    "        print(num)\n"
   ]
  },
  {
   "cell_type": "code",
   "execution_count": 5,
   "metadata": {},
   "outputs": [
    {
     "name": "stdout",
     "output_type": "stream",
     "text": [
      "enter the number : 35\n",
      "Sum of natural numbers upto 35 is 630\n"
     ]
    }
   ],
   "source": [
    "# 6.Write a Python Program to Find the Sum of Natural Numbers?\n",
    "\n",
    "n = int(input(\"enter the number : \"))\n",
    "sum1 = 0\n",
    "for i in range(0,n+1):\n",
    "    sum1+=i\n",
    "print(\"Sum of natural numbers upto {} is {}\".format(n,sum1))"
   ]
  },
  {
   "cell_type": "code",
   "execution_count": null,
   "metadata": {},
   "outputs": [],
   "source": []
  }
 ],
 "metadata": {
  "kernelspec": {
   "display_name": "Python 3",
   "language": "python",
   "name": "python3"
  },
  "language_info": {
   "codemirror_mode": {
    "name": "ipython",
    "version": 3
   },
   "file_extension": ".py",
   "mimetype": "text/x-python",
   "name": "python",
   "nbconvert_exporter": "python",
   "pygments_lexer": "ipython3",
   "version": "3.7.0"
  }
 },
 "nbformat": 4,
 "nbformat_minor": 4
}
