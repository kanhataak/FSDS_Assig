{
 "cells": [
  {
   "cell_type": "markdown",
   "metadata": {},
   "source": [
    "# Programming-Assignment_2"
   ]
  },
  {
   "cell_type": "markdown",
   "metadata": {},
   "source": [
    "###### 1. Write a Python program to convert kilometers to miles?"
   ]
  },
  {
   "cell_type": "code",
   "execution_count": 1,
   "metadata": {},
   "outputs": [
    {
     "name": "stdout",
     "output_type": "stream",
     "text": [
      "Enter kilometers to convert into miles :45\n",
      "\n",
      " 45.0 kilometers is equal to 27.961695 miles.\n"
     ]
    }
   ],
   "source": [
    "# 1 kilometers = 0.621371 miles\n",
    "\n",
    "km = float(input(\"Enter kilometers to convert into miles :\"))\n",
    "\n",
    "miles = 0.621371 * km\n",
    "print(f\"\\n {km} kilometers is equal to {miles} miles.\")"
   ]
  },
  {
   "cell_type": "markdown",
   "metadata": {},
   "source": [
    "######  2. Write a Python program to convert Celsius to Fahrenheit?\n",
    "### Formula  (0°C × 9/5) + 32 = 32°F"
   ]
  },
  {
   "cell_type": "code",
   "execution_count": 2,
   "metadata": {},
   "outputs": [
    {
     "name": "stdout",
     "output_type": "stream",
     "text": [
      "Enter Celsius value :24\n"
     ]
    },
    {
     "data": {
      "text/plain": [
       "75.2"
      ]
     },
     "execution_count": 2,
     "metadata": {},
     "output_type": "execute_result"
    }
   ],
   "source": [
    "cls = float(input(\"Enter Celsius value :\"))\n",
    "f = ((cls * 9/5) + 32)\n",
    "f"
   ]
  },
  {
   "cell_type": "markdown",
   "metadata": {},
   "source": [
    "###### Q 3. Write a Python program to display calendar? "
   ]
  },
  {
   "cell_type": "code",
   "execution_count": 3,
   "metadata": {},
   "outputs": [
    {
     "name": "stdout",
     "output_type": "stream",
     "text": [
      "Enter a year2021\n",
      "                                  2021\n",
      "\n",
      "      January                   February                   March\n",
      "Mo Tu We Th Fr Sa Su      Mo Tu We Th Fr Sa Su      Mo Tu We Th Fr Sa Su\n",
      "             1  2  3       1  2  3  4  5  6  7       1  2  3  4  5  6  7\n",
      " 4  5  6  7  8  9 10       8  9 10 11 12 13 14       8  9 10 11 12 13 14\n",
      "11 12 13 14 15 16 17      15 16 17 18 19 20 21      15 16 17 18 19 20 21\n",
      "18 19 20 21 22 23 24      22 23 24 25 26 27 28      22 23 24 25 26 27 28\n",
      "25 26 27 28 29 30 31                                29 30 31\n",
      "\n",
      "       April                      May                       June\n",
      "Mo Tu We Th Fr Sa Su      Mo Tu We Th Fr Sa Su      Mo Tu We Th Fr Sa Su\n",
      "          1  2  3  4                      1  2          1  2  3  4  5  6\n",
      " 5  6  7  8  9 10 11       3  4  5  6  7  8  9       7  8  9 10 11 12 13\n",
      "12 13 14 15 16 17 18      10 11 12 13 14 15 16      14 15 16 17 18 19 20\n",
      "19 20 21 22 23 24 25      17 18 19 20 21 22 23      21 22 23 24 25 26 27\n",
      "26 27 28 29 30            24 25 26 27 28 29 30      28 29 30\n",
      "                          31\n",
      "\n",
      "        July                     August                  September\n",
      "Mo Tu We Th Fr Sa Su      Mo Tu We Th Fr Sa Su      Mo Tu We Th Fr Sa Su\n",
      "          1  2  3  4                         1             1  2  3  4  5\n",
      " 5  6  7  8  9 10 11       2  3  4  5  6  7  8       6  7  8  9 10 11 12\n",
      "12 13 14 15 16 17 18       9 10 11 12 13 14 15      13 14 15 16 17 18 19\n",
      "19 20 21 22 23 24 25      16 17 18 19 20 21 22      20 21 22 23 24 25 26\n",
      "26 27 28 29 30 31         23 24 25 26 27 28 29      27 28 29 30\n",
      "                          30 31\n",
      "\n",
      "      October                   November                  December\n",
      "Mo Tu We Th Fr Sa Su      Mo Tu We Th Fr Sa Su      Mo Tu We Th Fr Sa Su\n",
      "             1  2  3       1  2  3  4  5  6  7             1  2  3  4  5\n",
      " 4  5  6  7  8  9 10       8  9 10 11 12 13 14       6  7  8  9 10 11 12\n",
      "11 12 13 14 15 16 17      15 16 17 18 19 20 21      13 14 15 16 17 18 19\n",
      "18 19 20 21 22 23 24      22 23 24 25 26 27 28      20 21 22 23 24 25 26\n",
      "25 26 27 28 29 30 31      29 30                     27 28 29 30 31\n",
      "\n"
     ]
    }
   ],
   "source": [
    "import calendar as cl\n",
    "yr = int(input(\"Enter a year\"))\n",
    "def display():\n",
    "        \n",
    "    print(cl.calendar(yr))\n",
    "    \n",
    "display()"
   ]
  },
  {
   "cell_type": "code",
   "execution_count": 4,
   "metadata": {},
   "outputs": [
    {
     "name": "stdout",
     "output_type": "stream",
     "text": [
      "The starting day number in calendar is : 0\n",
      "The year is leap\n",
      "The leap days between 1950 and 2000 are : 12\n",
      "The month 5th of 2016 is :\n",
      "      May 2016\n",
      "Mo Tu We Th Fr Sa Su\n",
      "                   1\n",
      " 2  3  4  5  6  7  8\n",
      " 9 10 11 12 13 14 15\n",
      "16 17 18 19 20 21 22\n",
      "23 24 25 26 27 28 29\n",
      "30 31\n",
      "\n"
     ]
    }
   ],
   "source": [
    "import calendar\n",
    "\n",
    "print (\"The starting day number in calendar is : \",end=\"\") \n",
    "print (calendar.firstweekday()) \n",
    "\n",
    "if (calendar.isleap(2008)): \n",
    "       print (\"The year is leap\") \n",
    "else : \n",
    "    print (\"The year is not leap\")\n",
    "    \n",
    "print (\"The leap days between 1950 and 2000 are : \",end=\"\") \n",
    "print (calendar.leapdays(1950, 2000)) \n",
    "\n",
    "print (\"The month 5th of 2016 is :\") \n",
    "print (calendar.month(2016,5,2,1)) "
   ]
  },
  {
   "cell_type": "markdown",
   "metadata": {},
   "source": [
    "###### 4. Write a Python program to solve quadratic equation?\n",
    "\n",
    "### formula of quadratic equation-->   f(x) = ax2 + bx + c   Where a, b, and c are coefficient and real numbers and also a ≠ 0"
   ]
  },
  {
   "cell_type": "code",
   "execution_count": 5,
   "metadata": {},
   "outputs": [
    {
     "name": "stdout",
     "output_type": "stream",
     "text": [
      "Enter the coefficent a: 8\n",
      "Enter the coefficent b: 4\n",
      "Enter the coefficent c: 3\n",
      "Root1  (-0.25, '+i', 8.94427190999916) \n",
      "Root2  (-0.25, '-i', 8.94427190999916)\n"
     ]
    }
   ],
   "source": [
    "# we a math class in python to solve mathmaticl equation in math\n",
    "# python we simply use if else statement to find quadratic\n",
    "import math\n",
    "# first we will take input form user\n",
    "a = float(input(\"Enter the coefficent a: \"))\n",
    "b = float(input(\"Enter the coefficent b: \"))\n",
    "c = float(input(\"Enter the coefficent c: \"))\n",
    "\n",
    "d = b*b - 4*a*c  # we can also use math.pow here\n",
    "sqrt_d = math.sqrt(abs(d))\n",
    "\n",
    "if a:\n",
    "\n",
    "    if d>0:\n",
    "        root1 = (-b + sqrt_d) / (2*a)\n",
    "        root2 = (-b - sqrt_d) / (2*a) # root2 also would be same only the changes is + replace with -\n",
    "        print(\"Roots are real and not equal\", root1,\"and\", root2)\n",
    "    elif d==0: # if the root is equal to zero then root would be same both\n",
    "        root1 = -b / (2*a)\n",
    "        print(\"The roots are same\",root1)\n",
    "    elif d<0:\n",
    "        root1 = (-b/(2*a),\"+i\", sqrt_d)\n",
    "        root2 = (-b/(2*a),\"-i\", sqrt_d)\n",
    "        print(\"Root1 \",root1,\"\\nRoot2 \",root2)\n",
    "    else:\n",
    "        print(\"Enter equation correctly\")\n",
    "else:\n",
    "    print(\"U have entered a == 0\")\n",
    "    "
   ]
  },
  {
   "cell_type": "markdown",
   "metadata": {},
   "source": [
    "###### 5. Write a Python program to swap two variables without temp variable?"
   ]
  },
  {
   "cell_type": "code",
   "execution_count": 6,
   "metadata": {},
   "outputs": [
    {
     "name": "stdout",
     "output_type": "stream",
     "text": [
      "20\n",
      "10\n"
     ]
    }
   ],
   "source": [
    "x = 10\n",
    "y = 20\n",
    "\n",
    "x,y = y,x\n",
    "print(x)\n",
    "print(y)"
   ]
  },
  {
   "cell_type": "code",
   "execution_count": null,
   "metadata": {},
   "outputs": [],
   "source": []
  }
 ],
 "metadata": {
  "kernelspec": {
   "display_name": "Python 3",
   "language": "python",
   "name": "python3"
  },
  "language_info": {
   "codemirror_mode": {
    "name": "ipython",
    "version": 3
   },
   "file_extension": ".py",
   "mimetype": "text/x-python",
   "name": "python",
   "nbconvert_exporter": "python",
   "pygments_lexer": "ipython3",
   "version": "3.7.0"
  }
 },
 "nbformat": 4,
 "nbformat_minor": 2
}
