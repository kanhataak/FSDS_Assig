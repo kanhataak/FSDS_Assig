{
 "cells": [
  {
   "cell_type": "markdown",
   "metadata": {},
   "source": [
    "# Programming-Assignment_10"
   ]
  },
  {
   "cell_type": "code",
   "execution_count": 1,
   "metadata": {},
   "outputs": [
    {
     "name": "stdout",
     "output_type": "stream",
     "text": [
      "Enter the lenth of your list : 4\n",
      "45\n",
      "45\n",
      "78\n",
      "7\n",
      "The List is  [45, 45, 78, 7]\n",
      "Sum of elements in List 175\n"
     ]
    }
   ],
   "source": [
    "# 1.Write a Python program to find sum of elements in list?\n",
    "\n",
    "\n",
    "n = int(input(\"Enter the lenth of your list : \"))\n",
    "lst = []\n",
    "\n",
    "for i in range(n):\n",
    "    lst.append(int(input()))\n",
    "print(\"The List is \",lst)\n",
    "print(\"Sum of elements in List\",sum(lst))"
   ]
  },
  {
   "cell_type": "code",
   "execution_count": 3,
   "metadata": {},
   "outputs": [
    {
     "name": "stdout",
     "output_type": "stream",
     "text": [
      "2240\n"
     ]
    }
   ],
   "source": [
    "# 2.Write a Python program to  Multiply all numbers in the list?\n",
    "\n",
    "l = [2,5,8,7,4]\n",
    "mul = 1\n",
    "for i in l:\n",
    "    mul = mul*i\n",
    "print(mul)"
   ]
  },
  {
   "cell_type": "code",
   "execution_count": 5,
   "metadata": {},
   "outputs": [
    {
     "name": "stdout",
     "output_type": "stream",
     "text": [
      "4\n"
     ]
    }
   ],
   "source": [
    "# 3.Write a Python program to find smallest number in a list?\n",
    "\n",
    "\n",
    "lst = [10,12,14,13,4,6,8]\n",
    "lst.sort()\n",
    "print(lst[0])"
   ]
  },
  {
   "cell_type": "code",
   "execution_count": 6,
   "metadata": {},
   "outputs": [
    {
     "name": "stdout",
     "output_type": "stream",
     "text": [
      "Enter the lenth list : 5\n",
      "78\n",
      "45\n",
      "12\n",
      "36\n",
      "8\n",
      "The List is  [78, 45, 12, 36, 8]\n",
      "The largest element in the list is : 78\n"
     ]
    }
   ],
   "source": [
    "# 4.Write a Python program to find largest number in a list?\n",
    "\n",
    "x = int(input(\"Enter the lenth list : \"))\n",
    "lst = []\n",
    "\n",
    "for i in range(x):\n",
    "    lst.append(int(input()))\n",
    "print(\"The List is \",lst)\n",
    "print(\"The largest element in the list is :\",max(lst))\n"
   ]
  },
  {
   "cell_type": "code",
   "execution_count": 7,
   "metadata": {},
   "outputs": [
    {
     "name": "stdout",
     "output_type": "stream",
     "text": [
      "Enter Number of elements: 4\n",
      "Enter Number: 7\n",
      "Enter Number: 8\n",
      "Enter Number: 4\n",
      "Enter Number: 56\n",
      "8\n"
     ]
    }
   ],
   "source": [
    "# 5.Write a Python program to find second largest number in a list?\n",
    "\n",
    "\n",
    "class sum_elements:\n",
    "        def __init__(self,n):\n",
    "            self.n=n\n",
    "            \n",
    "        def fun(self):\n",
    "            try:\n",
    "                li=[]\n",
    "                for i in range(self.n):\n",
    "                    li.append(int(input(\"Enter Number: \")))\n",
    "                li.sort()\n",
    "                print(li[self.n-2])\n",
    "            except Exception as e:\n",
    "                print(e)     \n",
    "try:\n",
    "    n = int(input(\"Enter Number of elements: \"))\n",
    "    obj  = sum_elements(n)\n",
    "    obj.fun()\n",
    "except Exception as e:\n",
    "      print(e)"
   ]
  },
  {
   "cell_type": "code",
   "execution_count": 10,
   "metadata": {},
   "outputs": [],
   "source": [
    "# 6.Write a Python program to find N largest elements from a list?\n",
    "\n",
    "lst = [10,12,14,13,4,6,8]\n",
    "\n",
    "def Nthlargest(n):\n",
    "    lst.sort()\n",
    "    print(f\"{n}th largest number is {lst[-n]}\")"
   ]
  },
  {
   "cell_type": "code",
   "execution_count": 11,
   "metadata": {},
   "outputs": [
    {
     "name": "stdout",
     "output_type": "stream",
     "text": [
      "4th largest number is 10\n"
     ]
    }
   ],
   "source": [
    "Nthlargest(4)"
   ]
  },
  {
   "cell_type": "code",
   "execution_count": 12,
   "metadata": {},
   "outputs": [
    {
     "name": "stdout",
     "output_type": "stream",
     "text": [
      "[10, 12, 14, 4, 6, 8]\n"
     ]
    }
   ],
   "source": [
    "# 7.Write a Python program to print even numbers in a list?\n",
    "\n",
    "\n",
    "lst = [10,12,14,13,4,6,8]\n",
    "even = []\n",
    "for i in lst:\n",
    "    if i%2==0:\n",
    "        even.append(i)\n",
    "print(even)"
   ]
  },
  {
   "cell_type": "code",
   "execution_count": 13,
   "metadata": {},
   "outputs": [
    {
     "name": "stdout",
     "output_type": "stream",
     "text": [
      "[13]\n"
     ]
    }
   ],
   "source": [
    "# 8.Write a Python program to print odd numbers in a List?\n",
    "\n",
    "lst = [10,12,14,13,4,6,8]\n",
    "\n",
    "odd = []\n",
    "for i in lst:\n",
    "    if i%2!=0:\n",
    "        odd.append(i)\n",
    "print(odd)\n"
   ]
  },
  {
   "cell_type": "code",
   "execution_count": 15,
   "metadata": {},
   "outputs": [
    {
     "name": "stdout",
     "output_type": "stream",
     "text": [
      "The List : [3, [], 4, 8, [], 5, 9, [], 4]\n",
      "The list after removing empty lists\n",
      "[3, 4, 8, 5, 9, 4]\n"
     ]
    }
   ],
   "source": [
    "# 9.Write a Python program to Remove empty List from List?\n",
    "\n",
    "lst = [3,[],4,8,[],5,9,[],4]\n",
    "print(\"The List :\",lst)\n",
    "new_list = [element for element in lst if element != []]\n",
    "print(\"The list after removing empty lists\")\n",
    "print(new_list)"
   ]
  },
  {
   "cell_type": "code",
   "execution_count": 17,
   "metadata": {},
   "outputs": [
    {
     "name": "stdout",
     "output_type": "stream",
     "text": [
      "original list : [10, 12, 14, 13, 4, 6, 8]\n",
      "Cloned List: [10, 12, 14, 13, 4, 6, 8]\n"
     ]
    }
   ],
   "source": [
    "# 10.Write a Python program to Cloning or Copying a list?\n",
    "\n",
    "\n",
    "\n",
    "def clon(lst):  #define clon function\n",
    "    copy = []\n",
    "    for i in lst:\n",
    "        copy.append(i) # copying the list\n",
    "    print(f\"original list : {lst}\\nCloned List: {copy}\")\n",
    "    \n",
    "lst = [10,12,14,13,4,6,8]\n",
    "clon(lst)"
   ]
  },
  {
   "cell_type": "code",
   "execution_count": 20,
   "metadata": {},
   "outputs": [
    {
     "name": "stdout",
     "output_type": "stream",
     "text": [
      "10 : 1\n",
      "12 : 0\n",
      "14 : 0\n",
      "10 : 0\n",
      "13 : 0\n",
      "4 : 1\n",
      "6 : 0\n",
      "8 : 0\n",
      "45 : 0\n",
      "78 : 0\n",
      "4 : 0\n"
     ]
    }
   ],
   "source": [
    "# 11.Write a Python program to Count occurrences of an element in a list?\n",
    "\n",
    "def Count_elements(list_):\n",
    "    count = 0\n",
    "    for i in range(len(list_)):\n",
    "        num = list_[i]\n",
    "        for j in range(i+1,len(list_)):\n",
    "            if num == list_[j]:\n",
    "                count+=1\n",
    "        print(num,\":\",count)\n",
    "        count=0\n",
    "  \n",
    "list_ = [10,12,14,10,13,4,6,8,45,78,4]\n",
    "Count_elements(list_)"
   ]
  },
  {
   "cell_type": "code",
   "execution_count": null,
   "metadata": {},
   "outputs": [],
   "source": []
  }
 ],
 "metadata": {
  "kernelspec": {
   "display_name": "Python 3",
   "language": "python",
   "name": "python3"
  },
  "language_info": {
   "codemirror_mode": {
    "name": "ipython",
    "version": 3
   },
   "file_extension": ".py",
   "mimetype": "text/x-python",
   "name": "python",
   "nbconvert_exporter": "python",
   "pygments_lexer": "ipython3",
   "version": "3.7.0"
  }
 },
 "nbformat": 4,
 "nbformat_minor": 4
}
