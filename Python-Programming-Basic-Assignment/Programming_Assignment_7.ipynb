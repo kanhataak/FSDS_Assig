{
 "cells": [
  {
   "cell_type": "code",
   "execution_count": 2,
   "metadata": {},
   "outputs": [
    {
     "data": {
      "text/plain": [
       "17"
      ]
     },
     "execution_count": 2,
     "metadata": {},
     "output_type": "execute_result"
    }
   ],
   "source": [
    "# 1.Write a Python Program to find sum of array?\n",
    "\n",
    "def SUM(*args):\n",
    "    s =0\n",
    "    for i in args:\n",
    "        s = s+i\n",
    "    return s\n",
    "SUM(1,2,4,5,3,2)\n",
    "    "
   ]
  },
  {
   "cell_type": "code",
   "execution_count": 4,
   "metadata": {},
   "outputs": [
    {
     "data": {
      "text/plain": [
       "78"
      ]
     },
     "execution_count": 4,
     "metadata": {},
     "output_type": "execute_result"
    }
   ],
   "source": [
    "# 2.Write a Python Program to find largest element in an array\n",
    "\n",
    "lst = [45,78,12,4,56]\n",
    "max(lst)"
   ]
  },
  {
   "cell_type": "code",
   "execution_count": 27,
   "metadata": {},
   "outputs": [
    {
     "name": "stdout",
     "output_type": "stream",
     "text": [
      "Enter the size of the array: 5\n",
      "Original array: [1, 2, 3, 4, 5] and \n",
      "Rotated array is: [5, 4, 3, 2, 1]\n"
     ]
    }
   ],
   "source": [
    "# 3.Write a Python Program for array rotation?\n",
    "\n",
    "array = []\n",
    "size = int(input(\"Enter the size of the array: \"))\n",
    "for i in range(1, size+1):\n",
    "    array.append(i)\n",
    "    \n",
    "print(\"Original array: {} and \\nRotated array is: {}\".format(array,array[::-1]))"
   ]
  },
  {
   "cell_type": "code",
   "execution_count": 28,
   "metadata": {},
   "outputs": [
    {
     "name": "stdout",
     "output_type": "stream",
     "text": [
      "[5 6 7 8 9 1 2 3 4]\n"
     ]
    }
   ],
   "source": [
    "# 4.Write a Python Program to Split the array and add the first part to the end?\n",
    "\n",
    "import numpy as np\n",
    "arr = np.array([1,2,3,4,5,6,7,8,9])\n",
    "\n",
    "def split_arr(Array):\n",
    "    half = len(Array)//2\n",
    "    return Array[:half], Array[half:]\n",
    "\n",
    "arr1, arr2 = split_arr(arr)\n",
    "newarr = np.concatenate((arr2,arr1))\n",
    "print(newarr)"
   ]
  },
  {
   "cell_type": "code",
   "execution_count": 41,
   "metadata": {},
   "outputs": [
    {
     "name": "stdout",
     "output_type": "stream",
     "text": [
      "Not Monotonic\n"
     ]
    }
   ],
   "source": [
    "# 5.Write a Python Program to check if given array is Monotonic?\n",
    "\n",
    "# Monotonic:- tell us the array behavior means array is increasing, or decreasing...\n",
    "\n",
    "arr = [3, 5, 7, 19,10,4]\n",
    "\n",
    "def is_monotonic(arr):\n",
    "\n",
    "    if all(arr[i] <= arr[i+1] for i in range(len(arr) - 1)) or all(arr[i] >= arr[i+1] for i in range(len(arr) - 1)):\n",
    "        return \"Monotonic\"\n",
    "    return \"Not Monotonic\"\n",
    "\n",
    "print(is_monotonic(arr))"
   ]
  },
  {
   "cell_type": "code",
   "execution_count": null,
   "metadata": {},
   "outputs": [],
   "source": []
  }
 ],
 "metadata": {
  "kernelspec": {
   "display_name": "Python 3",
   "language": "python",
   "name": "python3"
  },
  "language_info": {
   "codemirror_mode": {
    "name": "ipython",
    "version": 3
   },
   "file_extension": ".py",
   "mimetype": "text/x-python",
   "name": "python",
   "nbconvert_exporter": "python",
   "pygments_lexer": "ipython3",
   "version": "3.7.0"
  }
 },
 "nbformat": 4,
 "nbformat_minor": 4
}
